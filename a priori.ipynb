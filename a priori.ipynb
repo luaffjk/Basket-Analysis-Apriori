{
 "cells": [
  {
   "cell_type": "code",
   "execution_count": 3,
   "id": "e8039d6f",
   "metadata": {
    "scrolled": true
   },
   "outputs": [
    {
     "name": "stdout",
     "output_type": "stream",
     "text": [
      "Collecting nb_black\n",
      "  Using cached nb_black-1.0.7-py3-none-any.whl\n",
      "Requirement already satisfied: black>='19.3' in /home/ec2-user/anaconda3/envs/tensorflow2_p36/lib/python3.6/site-packages (from nb_black) (20.8b1)\n",
      "Requirement already satisfied: ipython in /home/ec2-user/anaconda3/envs/tensorflow2_p36/lib/python3.6/site-packages (from nb_black) (7.16.1)\n",
      "Requirement already satisfied: mypy-extensions>=0.4.3 in /home/ec2-user/anaconda3/envs/tensorflow2_p36/lib/python3.6/site-packages (from black>='19.3'->nb_black) (0.4.3)\n",
      "Requirement already satisfied: dataclasses>=0.6 in /home/ec2-user/anaconda3/envs/tensorflow2_p36/lib/python3.6/site-packages (from black>='19.3'->nb_black) (0.8)\n",
      "Requirement already satisfied: click>=7.1.2 in /home/ec2-user/anaconda3/envs/tensorflow2_p36/lib/python3.6/site-packages (from black>='19.3'->nb_black) (7.1.2)\n",
      "Requirement already satisfied: toml>=0.10.1 in /home/ec2-user/anaconda3/envs/tensorflow2_p36/lib/python3.6/site-packages (from black>='19.3'->nb_black) (0.10.2)\n",
      "Requirement already satisfied: pathspec<1,>=0.6 in /home/ec2-user/anaconda3/envs/tensorflow2_p36/lib/python3.6/site-packages (from black>='19.3'->nb_black) (0.8.1)\n",
      "Requirement already satisfied: typing-extensions>=3.7.4 in /home/ec2-user/anaconda3/envs/tensorflow2_p36/lib/python3.6/site-packages (from black>='19.3'->nb_black) (4.0.1)\n",
      "Requirement already satisfied: typed-ast>=1.4.0 in /home/ec2-user/anaconda3/envs/tensorflow2_p36/lib/python3.6/site-packages (from black>='19.3'->nb_black) (1.4.2)\n",
      "Requirement already satisfied: appdirs in /home/ec2-user/anaconda3/envs/tensorflow2_p36/lib/python3.6/site-packages (from black>='19.3'->nb_black) (1.4.4)\n",
      "Requirement already satisfied: regex>=2020.1.8 in /home/ec2-user/anaconda3/envs/tensorflow2_p36/lib/python3.6/site-packages (from black>='19.3'->nb_black) (2020.11.13)\n",
      "Requirement already satisfied: prompt-toolkit!=3.0.0,!=3.0.1,<3.1.0,>=2.0.0 in /home/ec2-user/anaconda3/envs/tensorflow2_p36/lib/python3.6/site-packages (from ipython->nb_black) (3.0.5)\n",
      "Requirement already satisfied: pickleshare in /home/ec2-user/anaconda3/envs/tensorflow2_p36/lib/python3.6/site-packages (from ipython->nb_black) (0.7.5)\n",
      "Requirement already satisfied: backcall in /home/ec2-user/anaconda3/envs/tensorflow2_p36/lib/python3.6/site-packages (from ipython->nb_black) (0.2.0)\n",
      "Requirement already satisfied: jedi>=0.10 in /home/ec2-user/anaconda3/envs/tensorflow2_p36/lib/python3.6/site-packages (from ipython->nb_black) (0.17.2)\n",
      "Requirement already satisfied: pygments in /home/ec2-user/anaconda3/envs/tensorflow2_p36/lib/python3.6/site-packages (from ipython->nb_black) (2.8.0)\n",
      "Requirement already satisfied: pexpect in /home/ec2-user/anaconda3/envs/tensorflow2_p36/lib/python3.6/site-packages (from ipython->nb_black) (4.8.0)\n",
      "Requirement already satisfied: decorator in /home/ec2-user/anaconda3/envs/tensorflow2_p36/lib/python3.6/site-packages (from ipython->nb_black) (4.4.2)\n",
      "Requirement already satisfied: setuptools>=18.5 in /home/ec2-user/anaconda3/envs/tensorflow2_p36/lib/python3.6/site-packages (from ipython->nb_black) (49.6.0.post20210108)\n",
      "Requirement already satisfied: traitlets>=4.2 in /home/ec2-user/anaconda3/envs/tensorflow2_p36/lib/python3.6/site-packages (from ipython->nb_black) (4.3.3)\n",
      "Requirement already satisfied: parso<0.8.0,>=0.7.0 in /home/ec2-user/anaconda3/envs/tensorflow2_p36/lib/python3.6/site-packages (from jedi>=0.10->ipython->nb_black) (0.7.0)\n",
      "Requirement already satisfied: wcwidth in /home/ec2-user/anaconda3/envs/tensorflow2_p36/lib/python3.6/site-packages (from prompt-toolkit!=3.0.0,!=3.0.1,<3.1.0,>=2.0.0->ipython->nb_black) (0.2.5)\n",
      "Requirement already satisfied: six in /home/ec2-user/anaconda3/envs/tensorflow2_p36/lib/python3.6/site-packages (from traitlets>=4.2->ipython->nb_black) (1.15.0)\n",
      "Requirement already satisfied: ipython-genutils in /home/ec2-user/anaconda3/envs/tensorflow2_p36/lib/python3.6/site-packages (from traitlets>=4.2->ipython->nb_black) (0.2.0)\n",
      "Requirement already satisfied: ptyprocess>=0.5 in /home/ec2-user/anaconda3/envs/tensorflow2_p36/lib/python3.6/site-packages (from pexpect->ipython->nb_black) (0.7.0)\n",
      "Installing collected packages: nb-black\n",
      "Successfully installed nb-black-1.0.7\n",
      "Requirement already satisfied: flake8 in /home/ec2-user/anaconda3/envs/tensorflow2_p36/lib/python3.6/site-packages (3.8.4)\n",
      "Collecting pycodestyle_magic\n",
      "  Using cached pycodestyle_magic-0.5-py2.py3-none-any.whl (9.5 kB)\n",
      "Requirement already satisfied: pycodestyle<2.7.0,>=2.6.0a1 in /home/ec2-user/anaconda3/envs/tensorflow2_p36/lib/python3.6/site-packages (from flake8) (2.6.0)\n",
      "Requirement already satisfied: pyflakes<2.3.0,>=2.2.0 in /home/ec2-user/anaconda3/envs/tensorflow2_p36/lib/python3.6/site-packages (from flake8) (2.2.0)\n",
      "Requirement already satisfied: mccabe<0.7.0,>=0.6.0 in /home/ec2-user/anaconda3/envs/tensorflow2_p36/lib/python3.6/site-packages (from flake8) (0.6.1)\n",
      "Requirement already satisfied: importlib-metadata in /home/ec2-user/anaconda3/envs/tensorflow2_p36/lib/python3.6/site-packages (from flake8) (4.8.2)\n",
      "Requirement already satisfied: typing-extensions>=3.6.4 in /home/ec2-user/anaconda3/envs/tensorflow2_p36/lib/python3.6/site-packages (from importlib-metadata->flake8) (4.0.1)\n",
      "Requirement already satisfied: zipp>=0.5 in /home/ec2-user/anaconda3/envs/tensorflow2_p36/lib/python3.6/site-packages (from importlib-metadata->flake8) (3.4.0)\n",
      "Installing collected packages: pycodestyle-magic\n",
      "Successfully installed pycodestyle-magic-0.5\n",
      "Collecting bigquery\n",
      "  Using cached bigquery-0.0.34.tar.gz (8.1 kB)\n",
      "  Preparing metadata (setup.py) ... \u001b[?25ldone\n",
      "\u001b[?25hCollecting dbstream>=0.1.19\n",
      "  Using cached dbstream-0.1.19-py3-none-any.whl\n",
      "Collecting google-cloud-bigquery>=2.4.0\n",
      "  Using cached google_cloud_bigquery-3.2.0-py2.py3-none-any.whl (211 kB)\n",
      "Collecting googleauthentication>=0.0.12\n",
      "  Using cached googleauthentication-0.0.17-py3-none-any.whl\n",
      "Collecting google-cloud-bigquery-storage>=2.1.0\n",
      "  Using cached google_cloud_bigquery_storage-2.13.2-py2.py3-none-any.whl (180 kB)\n",
      "Collecting bigquery\n",
      "  Using cached bigquery-0.0.33.tar.gz (7.9 kB)\n",
      "  Preparing metadata (setup.py) ... \u001b[?25ldone\n",
      "\u001b[?25h  Using cached bigquery-0.0.32.tar.gz (7.9 kB)\n",
      "  Preparing metadata (setup.py) ... \u001b[?25ldone\n",
      "\u001b[?25h  Using cached bigquery-0.0.31.tar.gz (2.0 kB)\n",
      "  Preparing metadata (setup.py) ... \u001b[?25ldone\n",
      "\u001b[?25h  Using cached bigquery-0.0.30-py3-none-any.whl\n",
      "Requirement already satisfied: pyarrow>=2.0.0 in /home/ec2-user/anaconda3/envs/tensorflow2_p36/lib/python3.6/site-packages (from bigquery) (6.0.1)\n",
      "Requirement already satisfied: pandas>=1.1.4 in /home/ec2-user/anaconda3/envs/tensorflow2_p36/lib/python3.6/site-packages (from bigquery) (1.1.5)\n",
      "Collecting google-api-core>=2.3.2\n",
      "  Using cached google_api_core-2.8.2-py3-none-any.whl (114 kB)\n",
      "Collecting dacktool>=0.0.7\n",
      "  Using cached dacktool-0.0.7-py3-none-any.whl\n",
      "Requirement already satisfied: requests>=2.22.0 in /home/ec2-user/anaconda3/envs/tensorflow2_p36/lib/python3.6/site-packages (from dbstream>=0.1.19->bigquery) (2.26.0)\n",
      "Requirement already satisfied: packaging<22.0.0dev,>=14.3 in /home/ec2-user/anaconda3/envs/tensorflow2_p36/lib/python3.6/site-packages (from google-cloud-bigquery>=2.4.0->bigquery) (21.3)\n",
      "Collecting proto-plus<2.0.0dev,>=1.15.0\n",
      "  Using cached proto_plus-1.22.1-py3-none-any.whl (47 kB)\n",
      "Collecting google-cloud-core<3.0.0dev,>=1.4.1\n",
      "  Using cached google_cloud_core-2.3.1-py2.py3-none-any.whl (29 kB)\n",
      "Requirement already satisfied: python-dateutil<3.0dev,>=2.7.2 in /home/ec2-user/anaconda3/envs/tensorflow2_p36/lib/python3.6/site-packages (from google-cloud-bigquery>=2.4.0->bigquery) (2.8.1)\n",
      "Requirement already satisfied: protobuf<4.0.0dev,>=3.12.0 in /home/ec2-user/anaconda3/envs/tensorflow2_p36/lib/python3.6/site-packages (from google-cloud-bigquery>=2.4.0->bigquery) (3.15.2)\n",
      "Collecting google-resumable-media<3.0dev,>=0.6.0\n",
      "  Using cached google_resumable_media-2.3.3-py2.py3-none-any.whl (76 kB)\n",
      "Requirement already satisfied: grpcio<2.0dev,>=1.38.1 in /home/ec2-user/anaconda3/envs/tensorflow2_p36/lib/python3.6/site-packages (from google-cloud-bigquery>=2.4.0->bigquery) (1.42.0)\n",
      "Collecting protobuf<4.0.0dev,>=3.12.0\n",
      "  Using cached protobuf-3.19.6-cp36-cp36m-manylinux_2_17_x86_64.manylinux2014_x86_64.whl (1.1 MB)\n",
      "Collecting google-api-python-client==1.7.11\n",
      "  Using cached google_api_python_client-1.7.11-py3-none-any.whl\n",
      "Requirement already satisfied: cryptography>=2.7 in /home/ec2-user/anaconda3/envs/tensorflow2_p36/lib/python3.6/site-packages (from googleauthentication>=0.0.12->bigquery) (3.4.4)\n",
      "Collecting google-cloud-secret-manager==2.7.2\n",
      "  Using cached google_cloud_secret_manager-2.7.2-py2.py3-none-any.whl (94 kB)\n",
      "Requirement already satisfied: google-auth>=1.23.0 in /home/ec2-user/anaconda3/envs/tensorflow2_p36/lib/python3.6/site-packages (from googleauthentication>=0.0.12->bigquery) (1.35.0)\n",
      "Requirement already satisfied: google-auth-oauthlib>=0.4.0 in /home/ec2-user/anaconda3/envs/tensorflow2_p36/lib/python3.6/site-packages (from googleauthentication>=0.0.12->bigquery) (0.4.6)\n",
      "Collecting google-auth-httplib2==0.0.3\n",
      "  Using cached google_auth_httplib2-0.0.3-py2.py3-none-any.whl (6.3 kB)\n",
      "Collecting uritemplate<4dev,>=3.0.0\n",
      "  Using cached uritemplate-3.0.1-py2.py3-none-any.whl (15 kB)\n",
      "Collecting httplib2<1dev,>=0.9.2\n",
      "  Using cached httplib2-0.21.0-py3-none-any.whl (96 kB)\n",
      "Requirement already satisfied: six<2dev,>=1.6.1 in /home/ec2-user/anaconda3/envs/tensorflow2_p36/lib/python3.6/site-packages (from google-api-python-client==1.7.11->googleauthentication>=0.0.12->bigquery) (1.15.0)\n",
      "Collecting grpc-google-iam-v1<0.13dev,>=0.12.3\n",
      "  Using cached grpc_google_iam_v1-0.12.4-py2.py3-none-any.whl (26 kB)\n",
      "Collecting libcst>=0.2.5\n",
      "  Using cached libcst-0.4.1-cp36-cp36m-manylinux_2_17_x86_64.manylinux2014_x86_64.whl (2.7 MB)\n",
      "Requirement already satisfied: pytz>=2017.2 in /home/ec2-user/anaconda3/envs/tensorflow2_p36/lib/python3.6/site-packages (from pandas>=1.1.4->bigquery) (2021.1)\n",
      "Requirement already satisfied: numpy>=1.15.4 in /home/ec2-user/anaconda3/envs/tensorflow2_p36/lib/python3.6/site-packages (from pandas>=1.1.4->bigquery) (1.18.5)\n",
      "Requirement already satisfied: cffi>=1.12 in /home/ec2-user/anaconda3/envs/tensorflow2_p36/lib/python3.6/site-packages (from cryptography>=2.7->googleauthentication>=0.0.12->bigquery) (1.14.5)\n",
      "Collecting googleapis-common-protos<2.0dev,>=1.56.2\n",
      "  Using cached googleapis_common_protos-1.56.3-py2.py3-none-any.whl (211 kB)\n",
      "Collecting grpcio-status<2.0dev,>=1.33.2\n",
      "  Using cached grpcio_status-1.51.1-py3-none-any.whl (5.1 kB)\n",
      "Requirement already satisfied: cachetools<5.0,>=2.0.0 in /home/ec2-user/anaconda3/envs/tensorflow2_p36/lib/python3.6/site-packages (from google-auth>=1.23.0->googleauthentication>=0.0.12->bigquery) (4.2.4)\n",
      "Requirement already satisfied: rsa<5,>=3.1.4 in /home/ec2-user/anaconda3/envs/tensorflow2_p36/lib/python3.6/site-packages (from google-auth>=1.23.0->googleauthentication>=0.0.12->bigquery) (4.7.2)\n",
      "Requirement already satisfied: setuptools>=40.3.0 in /home/ec2-user/anaconda3/envs/tensorflow2_p36/lib/python3.6/site-packages (from google-auth>=1.23.0->googleauthentication>=0.0.12->bigquery) (49.6.0.post20210108)\n",
      "Requirement already satisfied: pyasn1-modules>=0.2.1 in /home/ec2-user/anaconda3/envs/tensorflow2_p36/lib/python3.6/site-packages (from google-auth>=1.23.0->googleauthentication>=0.0.12->bigquery) (0.2.8)\n",
      "Requirement already satisfied: requests-oauthlib>=0.7.0 in /home/ec2-user/anaconda3/envs/tensorflow2_p36/lib/python3.6/site-packages (from google-auth-oauthlib>=0.4.0->googleauthentication>=0.0.12->bigquery) (1.3.0)\n",
      "Collecting google-crc32c<2.0dev,>=1.0\n",
      "  Using cached google_crc32c-1.3.0-cp36-cp36m-manylinux_2_12_x86_64.manylinux2010_x86_64.whl (37 kB)\n",
      "Requirement already satisfied: pyparsing!=3.0.5,>=2.0.2 in /home/ec2-user/anaconda3/envs/tensorflow2_p36/lib/python3.6/site-packages (from packaging<22.0.0dev,>=14.3->google-cloud-bigquery>=2.4.0->bigquery) (2.4.7)\n",
      "Requirement already satisfied: idna<4,>=2.5 in /home/ec2-user/anaconda3/envs/tensorflow2_p36/lib/python3.6/site-packages (from requests>=2.22.0->dbstream>=0.1.19->bigquery) (3.1)\n",
      "Requirement already satisfied: certifi>=2017.4.17 in /home/ec2-user/anaconda3/envs/tensorflow2_p36/lib/python3.6/site-packages (from requests>=2.22.0->dbstream>=0.1.19->bigquery) (2021.5.30)\n",
      "Requirement already satisfied: charset-normalizer~=2.0.0 in /home/ec2-user/anaconda3/envs/tensorflow2_p36/lib/python3.6/site-packages (from requests>=2.22.0->dbstream>=0.1.19->bigquery) (2.0.9)\n",
      "Requirement already satisfied: urllib3<1.27,>=1.21.1 in /home/ec2-user/anaconda3/envs/tensorflow2_p36/lib/python3.6/site-packages (from requests>=2.22.0->dbstream>=0.1.19->bigquery) (1.26.8)\n",
      "Requirement already satisfied: pycparser in /home/ec2-user/anaconda3/envs/tensorflow2_p36/lib/python3.6/site-packages (from cffi>=1.12->cryptography>=2.7->googleauthentication>=0.0.12->bigquery) (2.20)\n",
      "Collecting grpcio-status<2.0dev,>=1.33.2\n",
      "  Using cached grpcio_status-1.50.0-py3-none-any.whl (14 kB)\n",
      "  Using cached grpcio_status-1.49.1-py3-none-any.whl (14 kB)\n",
      "  Using cached grpcio_status-1.48.2-py3-none-any.whl (14 kB)\n",
      "Collecting grpcio<2.0dev,>=1.38.1\n",
      "  Using cached grpcio-1.48.2-cp36-cp36m-manylinux_2_17_x86_64.manylinux2014_x86_64.whl (4.6 MB)\n",
      "Requirement already satisfied: typing-extensions>=3.7.4.2 in /home/ec2-user/anaconda3/envs/tensorflow2_p36/lib/python3.6/site-packages (from libcst>=0.2.5->google-cloud-secret-manager==2.7.2->googleauthentication>=0.0.12->bigquery) (4.0.1)\n",
      "Collecting typing-inspect>=0.4.0\n",
      "  Using cached typing_inspect-0.8.0-py3-none-any.whl (8.7 kB)\n",
      "Requirement already satisfied: dataclasses>=0.6.0 in /home/ec2-user/anaconda3/envs/tensorflow2_p36/lib/python3.6/site-packages (from libcst>=0.2.5->google-cloud-secret-manager==2.7.2->googleauthentication>=0.0.12->bigquery) (0.8)\n",
      "Requirement already satisfied: pyyaml>=5.2 in /home/ec2-user/anaconda3/envs/tensorflow2_p36/lib/python3.6/site-packages (from libcst>=0.2.5->google-cloud-secret-manager==2.7.2->googleauthentication>=0.0.12->bigquery) (5.4.1)\n",
      "Requirement already satisfied: pyasn1<0.5.0,>=0.4.6 in /home/ec2-user/anaconda3/envs/tensorflow2_p36/lib/python3.6/site-packages (from pyasn1-modules>=0.2.1->google-auth>=1.23.0->googleauthentication>=0.0.12->bigquery) (0.4.8)\n",
      "Requirement already satisfied: oauthlib>=3.0.0 in /home/ec2-user/anaconda3/envs/tensorflow2_p36/lib/python3.6/site-packages (from requests-oauthlib>=0.7.0->google-auth-oauthlib>=0.4.0->googleauthentication>=0.0.12->bigquery) (3.1.1)\n",
      "Requirement already satisfied: mypy-extensions>=0.3.0 in /home/ec2-user/anaconda3/envs/tensorflow2_p36/lib/python3.6/site-packages (from typing-inspect>=0.4.0->libcst>=0.2.5->google-cloud-secret-manager==2.7.2->googleauthentication>=0.0.12->bigquery) (0.4.3)\n",
      "Installing collected packages: protobuf, grpcio, googleapis-common-protos, typing-inspect, httplib2, grpcio-status, google-api-core, uritemplate, proto-plus, libcst, grpc-google-iam-v1, google-crc32c, google-auth-httplib2, dacktool, google-resumable-media, google-cloud-secret-manager, google-cloud-core, google-cloud-bigquery-storage, google-api-python-client, dbstream, googleauthentication, google-cloud-bigquery, bigquery\n",
      "  Attempting uninstall: protobuf\n",
      "    Found existing installation: protobuf 3.15.2\n",
      "    Uninstalling protobuf-3.15.2:\n",
      "      Successfully uninstalled protobuf-3.15.2\n",
      "  Attempting uninstall: grpcio\n",
      "    Found existing installation: grpcio 1.42.0\n",
      "    Uninstalling grpcio-1.42.0:\n",
      "      Successfully uninstalled grpcio-1.42.0\n",
      "\u001b[31mERROR: pip's dependency resolver does not currently take into account all the packages that are installed. This behaviour is the source of the following dependency conflicts.\n",
      "tensorflow-serving-api 2.1.0 requires tensorflow~=2.1.0, which is not installed.\u001b[0m\n",
      "Successfully installed bigquery-0.0.30 dacktool-0.0.7 dbstream-0.1.19 google-api-core-2.8.2 google-api-python-client-1.7.11 google-auth-httplib2-0.0.3 google-cloud-bigquery-3.2.0 google-cloud-bigquery-storage-2.13.2 google-cloud-core-2.3.1 google-cloud-secret-manager-2.7.2 google-crc32c-1.3.0 google-resumable-media-2.3.3 googleapis-common-protos-1.56.3 googleauthentication-0.0.17 grpc-google-iam-v1-0.12.4 grpcio-1.48.2 grpcio-status-1.48.2 httplib2-0.21.0 libcst-0.4.1 proto-plus-1.22.1 protobuf-3.19.6 typing-inspect-0.8.0 uritemplate-3.0.1\n",
      "Collecting db-dtypes\n",
      "  Using cached db_dtypes-1.0.2-py2.py3-none-any.whl (14 kB)\n",
      "Requirement already satisfied: pandas<2.0dev,>=0.24.2 in /home/ec2-user/anaconda3/envs/tensorflow2_p36/lib/python3.6/site-packages (from db-dtypes) (1.1.5)\n",
      "Requirement already satisfied: pyarrow<9.0dev,>=3.0.0 in /home/ec2-user/anaconda3/envs/tensorflow2_p36/lib/python3.6/site-packages (from db-dtypes) (6.0.1)\n",
      "Requirement already satisfied: numpy<2.0dev,>=1.16.6 in /home/ec2-user/anaconda3/envs/tensorflow2_p36/lib/python3.6/site-packages (from db-dtypes) (1.18.5)\n",
      "Requirement already satisfied: packaging>=17.0 in /home/ec2-user/anaconda3/envs/tensorflow2_p36/lib/python3.6/site-packages (from db-dtypes) (21.3)\n",
      "Requirement already satisfied: pyparsing!=3.0.5,>=2.0.2 in /home/ec2-user/anaconda3/envs/tensorflow2_p36/lib/python3.6/site-packages (from packaging>=17.0->db-dtypes) (2.4.7)\n",
      "Requirement already satisfied: python-dateutil>=2.7.3 in /home/ec2-user/anaconda3/envs/tensorflow2_p36/lib/python3.6/site-packages (from pandas<2.0dev,>=0.24.2->db-dtypes) (2.8.1)\n",
      "Requirement already satisfied: pytz>=2017.2 in /home/ec2-user/anaconda3/envs/tensorflow2_p36/lib/python3.6/site-packages (from pandas<2.0dev,>=0.24.2->db-dtypes) (2021.1)\n",
      "Requirement already satisfied: six>=1.5 in /home/ec2-user/anaconda3/envs/tensorflow2_p36/lib/python3.6/site-packages (from python-dateutil>=2.7.3->pandas<2.0dev,>=0.24.2->db-dtypes) (1.15.0)\n",
      "Installing collected packages: db-dtypes\n",
      "Successfully installed db-dtypes-1.0.2\n",
      "Requirement already satisfied: matplotlib in /home/ec2-user/anaconda3/envs/tensorflow2_p36/lib/python3.6/site-packages (3.3.4)\n",
      "Requirement already satisfied: kiwisolver>=1.0.1 in /home/ec2-user/anaconda3/envs/tensorflow2_p36/lib/python3.6/site-packages (from matplotlib) (1.3.1)\n",
      "Requirement already satisfied: python-dateutil>=2.1 in /home/ec2-user/anaconda3/envs/tensorflow2_p36/lib/python3.6/site-packages (from matplotlib) (2.8.1)\n",
      "Requirement already satisfied: cycler>=0.10 in /home/ec2-user/anaconda3/envs/tensorflow2_p36/lib/python3.6/site-packages (from matplotlib) (0.10.0)\n",
      "Requirement already satisfied: pillow>=6.2.0 in /home/ec2-user/anaconda3/envs/tensorflow2_p36/lib/python3.6/site-packages (from matplotlib) (8.4.0)\n",
      "Requirement already satisfied: pyparsing!=2.0.4,!=2.1.2,!=2.1.6,>=2.0.3 in /home/ec2-user/anaconda3/envs/tensorflow2_p36/lib/python3.6/site-packages (from matplotlib) (2.4.7)\n",
      "Requirement already satisfied: numpy>=1.15 in /home/ec2-user/anaconda3/envs/tensorflow2_p36/lib/python3.6/site-packages (from matplotlib) (1.18.5)\n",
      "Requirement already satisfied: six in /home/ec2-user/anaconda3/envs/tensorflow2_p36/lib/python3.6/site-packages (from cycler>=0.10->matplotlib) (1.15.0)\n",
      "Requirement already satisfied: seaborn in /home/ec2-user/anaconda3/envs/tensorflow2_p36/lib/python3.6/site-packages (0.11.1)\n",
      "Requirement already satisfied: numpy>=1.15 in /home/ec2-user/anaconda3/envs/tensorflow2_p36/lib/python3.6/site-packages (from seaborn) (1.18.5)\n",
      "Requirement already satisfied: pandas>=0.23 in /home/ec2-user/anaconda3/envs/tensorflow2_p36/lib/python3.6/site-packages (from seaborn) (1.1.5)\n",
      "Requirement already satisfied: scipy>=1.0 in /home/ec2-user/anaconda3/envs/tensorflow2_p36/lib/python3.6/site-packages (from seaborn) (1.5.3)\n",
      "Requirement already satisfied: matplotlib>=2.2 in /home/ec2-user/anaconda3/envs/tensorflow2_p36/lib/python3.6/site-packages (from seaborn) (3.3.4)\n",
      "Requirement already satisfied: cycler>=0.10 in /home/ec2-user/anaconda3/envs/tensorflow2_p36/lib/python3.6/site-packages (from matplotlib>=2.2->seaborn) (0.10.0)\n",
      "Requirement already satisfied: pyparsing!=2.0.4,!=2.1.2,!=2.1.6,>=2.0.3 in /home/ec2-user/anaconda3/envs/tensorflow2_p36/lib/python3.6/site-packages (from matplotlib>=2.2->seaborn) (2.4.7)\n",
      "Requirement already satisfied: pillow>=6.2.0 in /home/ec2-user/anaconda3/envs/tensorflow2_p36/lib/python3.6/site-packages (from matplotlib>=2.2->seaborn) (8.4.0)\n",
      "Requirement already satisfied: python-dateutil>=2.1 in /home/ec2-user/anaconda3/envs/tensorflow2_p36/lib/python3.6/site-packages (from matplotlib>=2.2->seaborn) (2.8.1)\n",
      "Requirement already satisfied: kiwisolver>=1.0.1 in /home/ec2-user/anaconda3/envs/tensorflow2_p36/lib/python3.6/site-packages (from matplotlib>=2.2->seaborn) (1.3.1)\n",
      "Requirement already satisfied: pytz>=2017.2 in /home/ec2-user/anaconda3/envs/tensorflow2_p36/lib/python3.6/site-packages (from pandas>=0.23->seaborn) (2021.1)\n",
      "Requirement already satisfied: six in /home/ec2-user/anaconda3/envs/tensorflow2_p36/lib/python3.6/site-packages (from cycler>=0.10->matplotlib>=2.2->seaborn) (1.15.0)\n",
      "Requirement already satisfied: tqdm in /home/ec2-user/anaconda3/envs/tensorflow2_p36/lib/python3.6/site-packages (4.62.3)\n"
     ]
    }
   ],
   "source": [
    "!pip3 install nb_black\n",
    "!pip3 install flake8 pycodestyle_magic\n",
    "!pip3 install bigquery\n",
    "!pip3 install db-dtypes\n",
    "\n",
    "!pip3 install matplotlib\n",
    "!pip3 install seaborn\n",
    "!pip3 install tqdm"
   ]
  },
  {
   "cell_type": "code",
   "execution_count": 1,
   "id": "669c5a53",
   "metadata": {},
   "outputs": [
    {
     "data": {
      "application/javascript": [
       "\n",
       "            setTimeout(function() {\n",
       "                var nbb_cell_id = 1;\n",
       "                var nbb_unformatted_code = \"from google.cloud import bigquery\\nfrom datetime import datetime, timedelta\\n\\nimport os\\nimport pandas as pd\\nimport matplotlib.pyplot as plt\\nimport numpy as np\\nimport json\\nfrom datetime import datetime\\nimport datetime\\nfrom tqdm import tqdm\\nfrom matplotlib.patches import Rectangle\\nimport warnings\\n\\nwarnings.filterwarnings(\\\"ignore\\\")\\n\\n%load_ext google.cloud.bigquery\\n%load_ext nb_black\";\n",
       "                var nbb_formatted_code = \"from google.cloud import bigquery\\nfrom datetime import datetime, timedelta\\n\\nimport os\\nimport pandas as pd\\nimport matplotlib.pyplot as plt\\nimport numpy as np\\nimport json\\nfrom datetime import datetime\\nimport datetime\\nfrom tqdm import tqdm\\nfrom matplotlib.patches import Rectangle\\nimport warnings\\n\\nwarnings.filterwarnings(\\\"ignore\\\")\\n\\n%load_ext google.cloud.bigquery\\n%load_ext nb_black\";\n",
       "                var nbb_cells = Jupyter.notebook.get_cells();\n",
       "                for (var i = 0; i < nbb_cells.length; ++i) {\n",
       "                    if (nbb_cells[i].input_prompt_number == nbb_cell_id) {\n",
       "                        if (nbb_cells[i].get_text() == nbb_unformatted_code) {\n",
       "                             nbb_cells[i].set_text(nbb_formatted_code);\n",
       "                        }\n",
       "                        break;\n",
       "                    }\n",
       "                }\n",
       "            }, 500);\n",
       "            "
      ],
      "text/plain": [
       "<IPython.core.display.Javascript object>"
      ]
     },
     "metadata": {},
     "output_type": "display_data"
    }
   ],
   "source": [
    "from google.cloud import bigquery\n",
    "from datetime import datetime, timedelta\n",
    "\n",
    "import os\n",
    "import pandas as pd\n",
    "import matplotlib.pyplot as plt\n",
    "import numpy as np\n",
    "import json\n",
    "from datetime import datetime\n",
    "import datetime\n",
    "from tqdm import tqdm\n",
    "from matplotlib.patches import Rectangle\n",
    "import warnings\n",
    "\n",
    "warnings.filterwarnings(\"ignore\")\n",
    "\n",
    "%load_ext google.cloud.bigquery\n",
    "%load_ext nb_black"
   ]
  },
  {
   "cell_type": "code",
   "execution_count": 2,
   "id": "274025e0",
   "metadata": {},
   "outputs": [
    {
     "data": {
      "application/javascript": [
       "\n",
       "            setTimeout(function() {\n",
       "                var nbb_cell_id = 2;\n",
       "                var nbb_unformatted_code = \"from scipy.special import comb\\nfrom itertools import combinations, permutations\";\n",
       "                var nbb_formatted_code = \"from scipy.special import comb\\nfrom itertools import combinations, permutations\";\n",
       "                var nbb_cells = Jupyter.notebook.get_cells();\n",
       "                for (var i = 0; i < nbb_cells.length; ++i) {\n",
       "                    if (nbb_cells[i].input_prompt_number == nbb_cell_id) {\n",
       "                        if (nbb_cells[i].get_text() == nbb_unformatted_code) {\n",
       "                             nbb_cells[i].set_text(nbb_formatted_code);\n",
       "                        }\n",
       "                        break;\n",
       "                    }\n",
       "                }\n",
       "            }, 500);\n",
       "            "
      ],
      "text/plain": [
       "<IPython.core.display.Javascript object>"
      ]
     },
     "metadata": {},
     "output_type": "display_data"
    }
   ],
   "source": [
    "from scipy.special import comb\n",
    "from itertools import combinations, permutations\n"
   ]
  },
  {
   "cell_type": "markdown",
   "id": "e287bf8c",
   "metadata": {},
   "source": [
    "Referência: https://www.computersciencemaster.com.br/como-funciona-o-algoritmo-apriori/"
   ]
  },
  {
   "cell_type": "code",
   "execution_count": 3,
   "id": "a44f474c",
   "metadata": {},
   "outputs": [
    {
     "data": {
      "application/javascript": [
       "\n",
       "            setTimeout(function() {\n",
       "                var nbb_cell_id = 3;\n",
       "                var nbb_unformatted_code = \"df_mining = pd.DataFrame(\\n    [\\n        [\\n            \\\"onion\\\",\\n            \\\"potato\\\",\\n            \\\"burguer\\\",\\n            \\\"false\\\",\\n            \\\"false\\\"\\n        ],\\n        [\\n            \\\"false\\\",\\n            \\\"potato\\\",\\n            \\\"burguer\\\",\\n            \\\"milk\\\",\\n            \\\"false\\\"\\n        ],\\n        [\\\"false\\\", \\\"false\\\", \\\"false\\\", \\\"milk\\\", \\\"beer\\\"],\\n        [\\\"onion\\\", \\\"potato\\\", \\\"false\\\", \\\"milk\\\", \\\"false\\\"],\\n        [\\\"onion\\\", \\\"potato\\\", \\\"burguer\\\", \\\"false\\\", \\\"beer\\\"],\\n        [\\\"onion\\\", \\\"potato\\\", \\\"burguer\\\", \\\"milk\\\", \\\"beer\\\"],\\n    ]\\n)\";\n",
       "                var nbb_formatted_code = \"df_mining = pd.DataFrame(\\n    [\\n        [\\\"onion\\\", \\\"potato\\\", \\\"burguer\\\", \\\"false\\\", \\\"false\\\"],\\n        [\\\"false\\\", \\\"potato\\\", \\\"burguer\\\", \\\"milk\\\", \\\"false\\\"],\\n        [\\\"false\\\", \\\"false\\\", \\\"false\\\", \\\"milk\\\", \\\"beer\\\"],\\n        [\\\"onion\\\", \\\"potato\\\", \\\"false\\\", \\\"milk\\\", \\\"false\\\"],\\n        [\\\"onion\\\", \\\"potato\\\", \\\"burguer\\\", \\\"false\\\", \\\"beer\\\"],\\n        [\\\"onion\\\", \\\"potato\\\", \\\"burguer\\\", \\\"milk\\\", \\\"beer\\\"],\\n    ]\\n)\";\n",
       "                var nbb_cells = Jupyter.notebook.get_cells();\n",
       "                for (var i = 0; i < nbb_cells.length; ++i) {\n",
       "                    if (nbb_cells[i].input_prompt_number == nbb_cell_id) {\n",
       "                        if (nbb_cells[i].get_text() == nbb_unformatted_code) {\n",
       "                             nbb_cells[i].set_text(nbb_formatted_code);\n",
       "                        }\n",
       "                        break;\n",
       "                    }\n",
       "                }\n",
       "            }, 500);\n",
       "            "
      ],
      "text/plain": [
       "<IPython.core.display.Javascript object>"
      ]
     },
     "metadata": {},
     "output_type": "display_data"
    }
   ],
   "source": [
    "df_mining = pd.DataFrame(\n",
    "    [\n",
    "        [\n",
    "            \"onion\",\n",
    "            \"potato\",\n",
    "            \"burguer\",\n",
    "            \"false\",\n",
    "            \"false\"\n",
    "        ],\n",
    "        [\n",
    "            \"false\",\n",
    "            \"potato\",\n",
    "            \"burguer\",\n",
    "            \"milk\",\n",
    "            \"false\"\n",
    "        ],\n",
    "        [\"false\", \"false\", \"false\", \"milk\", \"beer\"],\n",
    "        [\"onion\", \"potato\", \"false\", \"milk\", \"false\"],\n",
    "        [\"onion\", \"potato\", \"burguer\", \"false\", \"beer\"],\n",
    "        [\"onion\", \"potato\", \"burguer\", \"milk\", \"beer\"],\n",
    "    ]\n",
    ")"
   ]
  },
  {
   "cell_type": "code",
   "execution_count": 4,
   "id": "78ed8576",
   "metadata": {},
   "outputs": [
    {
     "data": {
      "text/html": [
       "<div>\n",
       "<style scoped>\n",
       "    .dataframe tbody tr th:only-of-type {\n",
       "        vertical-align: middle;\n",
       "    }\n",
       "\n",
       "    .dataframe tbody tr th {\n",
       "        vertical-align: top;\n",
       "    }\n",
       "\n",
       "    .dataframe thead th {\n",
       "        text-align: right;\n",
       "    }\n",
       "</style>\n",
       "<table border=\"1\" class=\"dataframe\">\n",
       "  <thead>\n",
       "    <tr style=\"text-align: right;\">\n",
       "      <th></th>\n",
       "      <th>0</th>\n",
       "      <th>1</th>\n",
       "      <th>2</th>\n",
       "      <th>3</th>\n",
       "      <th>4</th>\n",
       "    </tr>\n",
       "  </thead>\n",
       "  <tbody>\n",
       "    <tr>\n",
       "      <th>0</th>\n",
       "      <td>onion</td>\n",
       "      <td>potato</td>\n",
       "      <td>burguer</td>\n",
       "      <td>false</td>\n",
       "      <td>false</td>\n",
       "    </tr>\n",
       "    <tr>\n",
       "      <th>1</th>\n",
       "      <td>false</td>\n",
       "      <td>potato</td>\n",
       "      <td>burguer</td>\n",
       "      <td>milk</td>\n",
       "      <td>false</td>\n",
       "    </tr>\n",
       "    <tr>\n",
       "      <th>2</th>\n",
       "      <td>false</td>\n",
       "      <td>false</td>\n",
       "      <td>false</td>\n",
       "      <td>milk</td>\n",
       "      <td>beer</td>\n",
       "    </tr>\n",
       "    <tr>\n",
       "      <th>3</th>\n",
       "      <td>onion</td>\n",
       "      <td>potato</td>\n",
       "      <td>false</td>\n",
       "      <td>milk</td>\n",
       "      <td>false</td>\n",
       "    </tr>\n",
       "    <tr>\n",
       "      <th>4</th>\n",
       "      <td>onion</td>\n",
       "      <td>potato</td>\n",
       "      <td>burguer</td>\n",
       "      <td>false</td>\n",
       "      <td>beer</td>\n",
       "    </tr>\n",
       "    <tr>\n",
       "      <th>5</th>\n",
       "      <td>onion</td>\n",
       "      <td>potato</td>\n",
       "      <td>burguer</td>\n",
       "      <td>milk</td>\n",
       "      <td>beer</td>\n",
       "    </tr>\n",
       "  </tbody>\n",
       "</table>\n",
       "</div>"
      ],
      "text/plain": [
       "       0       1        2      3      4\n",
       "0  onion  potato  burguer  false  false\n",
       "1  false  potato  burguer   milk  false\n",
       "2  false   false    false   milk   beer\n",
       "3  onion  potato    false   milk  false\n",
       "4  onion  potato  burguer  false   beer\n",
       "5  onion  potato  burguer   milk   beer"
      ]
     },
     "execution_count": 4,
     "metadata": {},
     "output_type": "execute_result"
    },
    {
     "data": {
      "application/javascript": [
       "\n",
       "            setTimeout(function() {\n",
       "                var nbb_cell_id = 4;\n",
       "                var nbb_unformatted_code = \"df_mining\";\n",
       "                var nbb_formatted_code = \"df_mining\";\n",
       "                var nbb_cells = Jupyter.notebook.get_cells();\n",
       "                for (var i = 0; i < nbb_cells.length; ++i) {\n",
       "                    if (nbb_cells[i].input_prompt_number == nbb_cell_id) {\n",
       "                        if (nbb_cells[i].get_text() == nbb_unformatted_code) {\n",
       "                             nbb_cells[i].set_text(nbb_formatted_code);\n",
       "                        }\n",
       "                        break;\n",
       "                    }\n",
       "                }\n",
       "            }, 500);\n",
       "            "
      ],
      "text/plain": [
       "<IPython.core.display.Javascript object>"
      ]
     },
     "metadata": {},
     "output_type": "display_data"
    }
   ],
   "source": [
    "df_mining"
   ]
  },
  {
   "cell_type": "code",
   "execution_count": 5,
   "id": "da13ce23",
   "metadata": {},
   "outputs": [
    {
     "data": {
      "text/html": [
       "<div>\n",
       "<style scoped>\n",
       "    .dataframe tbody tr th:only-of-type {\n",
       "        vertical-align: middle;\n",
       "    }\n",
       "\n",
       "    .dataframe tbody tr th {\n",
       "        vertical-align: top;\n",
       "    }\n",
       "\n",
       "    .dataframe thead th {\n",
       "        text-align: right;\n",
       "    }\n",
       "</style>\n",
       "<table border=\"1\" class=\"dataframe\">\n",
       "  <thead>\n",
       "    <tr style=\"text-align: right;\">\n",
       "      <th></th>\n",
       "      <th>produto</th>\n",
       "      <th>frequencia</th>\n",
       "    </tr>\n",
       "  </thead>\n",
       "  <tbody>\n",
       "    <tr>\n",
       "      <th>1</th>\n",
       "      <td>potato</td>\n",
       "      <td>5</td>\n",
       "    </tr>\n",
       "    <tr>\n",
       "      <th>2</th>\n",
       "      <td>burguer</td>\n",
       "      <td>4</td>\n",
       "    </tr>\n",
       "    <tr>\n",
       "      <th>3</th>\n",
       "      <td>milk</td>\n",
       "      <td>4</td>\n",
       "    </tr>\n",
       "    <tr>\n",
       "      <th>4</th>\n",
       "      <td>onion</td>\n",
       "      <td>4</td>\n",
       "    </tr>\n",
       "    <tr>\n",
       "      <th>5</th>\n",
       "      <td>beer</td>\n",
       "      <td>3</td>\n",
       "    </tr>\n",
       "  </tbody>\n",
       "</table>\n",
       "</div>"
      ],
      "text/plain": [
       "   produto  frequencia\n",
       "1   potato           5\n",
       "2  burguer           4\n",
       "3     milk           4\n",
       "4    onion           4\n",
       "5     beer           3"
      ]
     },
     "execution_count": 5,
     "metadata": {},
     "output_type": "execute_result"
    },
    {
     "data": {
      "application/javascript": [
       "\n",
       "            setTimeout(function() {\n",
       "                var nbb_cell_id = 5;\n",
       "                var nbb_unformatted_code = \"minimum_support = 0.5\\ndf_values = df_mining.values.astype(str)\\nn_trans = len(df_mining)\\nn_minimum_support = minimum_support * n_trans\\n\\nindex, counts = np.unique(df_values, return_counts=True)\\ndf_item = pd.DataFrame(zip(index, counts), columns=[\\\"produto\\\", \\\"frequencia\\\"])\\ndf_item.sort_values(by=\\\"frequencia\\\", ascending=False, inplace=True)\\ndf_item.reset_index(drop=True, inplace=True)\\ndf_item = df_item.query(\\\"produto != 'false'\\\")\\ndf_item\";\n",
       "                var nbb_formatted_code = \"minimum_support = 0.5\\ndf_values = df_mining.values.astype(str)\\nn_trans = len(df_mining)\\nn_minimum_support = minimum_support * n_trans\\n\\nindex, counts = np.unique(df_values, return_counts=True)\\ndf_item = pd.DataFrame(zip(index, counts), columns=[\\\"produto\\\", \\\"frequencia\\\"])\\ndf_item.sort_values(by=\\\"frequencia\\\", ascending=False, inplace=True)\\ndf_item.reset_index(drop=True, inplace=True)\\ndf_item = df_item.query(\\\"produto != 'false'\\\")\\ndf_item\";\n",
       "                var nbb_cells = Jupyter.notebook.get_cells();\n",
       "                for (var i = 0; i < nbb_cells.length; ++i) {\n",
       "                    if (nbb_cells[i].input_prompt_number == nbb_cell_id) {\n",
       "                        if (nbb_cells[i].get_text() == nbb_unformatted_code) {\n",
       "                             nbb_cells[i].set_text(nbb_formatted_code);\n",
       "                        }\n",
       "                        break;\n",
       "                    }\n",
       "                }\n",
       "            }, 500);\n",
       "            "
      ],
      "text/plain": [
       "<IPython.core.display.Javascript object>"
      ]
     },
     "metadata": {},
     "output_type": "display_data"
    }
   ],
   "source": [
    "minimum_support = 0.5\n",
    "df_values = df_mining.values.astype(str)\n",
    "n_trans = len(df_mining)\n",
    "n_minimum_support = minimum_support * n_trans\n",
    "\n",
    "index, counts = np.unique(df_values, return_counts=True)\n",
    "df_item = pd.DataFrame(zip(index, counts), columns=[\"produto\", \"frequencia\"])\n",
    "df_item.sort_values(by=\"frequencia\", ascending=False, inplace=True)\n",
    "df_item.reset_index(drop=True, inplace=True)\n",
    "df_item = df_item.query(\"produto != 'false'\")\n",
    "df_item"
   ]
  },
  {
   "cell_type": "code",
   "execution_count": 6,
   "id": "19cedec0",
   "metadata": {},
   "outputs": [
    {
     "data": {
      "text/html": [
       "<div>\n",
       "<style scoped>\n",
       "    .dataframe tbody tr th:only-of-type {\n",
       "        vertical-align: middle;\n",
       "    }\n",
       "\n",
       "    .dataframe tbody tr th {\n",
       "        vertical-align: top;\n",
       "    }\n",
       "\n",
       "    .dataframe thead th {\n",
       "        text-align: right;\n",
       "    }\n",
       "</style>\n",
       "<table border=\"1\" class=\"dataframe\">\n",
       "  <thead>\n",
       "    <tr style=\"text-align: right;\">\n",
       "      <th></th>\n",
       "      <th>produto</th>\n",
       "      <th>frequencia</th>\n",
       "      <th>supp</th>\n",
       "    </tr>\n",
       "  </thead>\n",
       "  <tbody>\n",
       "    <tr>\n",
       "      <th>1</th>\n",
       "      <td>potato</td>\n",
       "      <td>5</td>\n",
       "      <td>0.833333</td>\n",
       "    </tr>\n",
       "    <tr>\n",
       "      <th>2</th>\n",
       "      <td>burguer</td>\n",
       "      <td>4</td>\n",
       "      <td>0.666667</td>\n",
       "    </tr>\n",
       "    <tr>\n",
       "      <th>3</th>\n",
       "      <td>milk</td>\n",
       "      <td>4</td>\n",
       "      <td>0.666667</td>\n",
       "    </tr>\n",
       "    <tr>\n",
       "      <th>4</th>\n",
       "      <td>onion</td>\n",
       "      <td>4</td>\n",
       "      <td>0.666667</td>\n",
       "    </tr>\n",
       "  </tbody>\n",
       "</table>\n",
       "</div>"
      ],
      "text/plain": [
       "   produto  frequencia      supp\n",
       "1   potato           5  0.833333\n",
       "2  burguer           4  0.666667\n",
       "3     milk           4  0.666667\n",
       "4    onion           4  0.666667"
      ]
     },
     "execution_count": 6,
     "metadata": {},
     "output_type": "execute_result"
    },
    {
     "data": {
      "application/javascript": [
       "\n",
       "            setTimeout(function() {\n",
       "                var nbb_cell_id = 6;\n",
       "                var nbb_unformatted_code = \"n_minimum_support = minimum_support * n_trans\\ndf_item_frequent = df_item[df_item[\\\"frequencia\\\"] > n_minimum_support]\\ndf_item_frequent[\\\"supp\\\"] = df_item_frequent[\\\"frequencia\\\"] / n_trans\\ndf_item_frequent\";\n",
       "                var nbb_formatted_code = \"n_minimum_support = minimum_support * n_trans\\ndf_item_frequent = df_item[df_item[\\\"frequencia\\\"] > n_minimum_support]\\ndf_item_frequent[\\\"supp\\\"] = df_item_frequent[\\\"frequencia\\\"] / n_trans\\ndf_item_frequent\";\n",
       "                var nbb_cells = Jupyter.notebook.get_cells();\n",
       "                for (var i = 0; i < nbb_cells.length; ++i) {\n",
       "                    if (nbb_cells[i].input_prompt_number == nbb_cell_id) {\n",
       "                        if (nbb_cells[i].get_text() == nbb_unformatted_code) {\n",
       "                             nbb_cells[i].set_text(nbb_formatted_code);\n",
       "                        }\n",
       "                        break;\n",
       "                    }\n",
       "                }\n",
       "            }, 500);\n",
       "            "
      ],
      "text/plain": [
       "<IPython.core.display.Javascript object>"
      ]
     },
     "metadata": {},
     "output_type": "display_data"
    }
   ],
   "source": [
    "n_minimum_support = minimum_support * n_trans\n",
    "df_item_frequent = df_item[df_item[\"frequencia\"] > n_minimum_support]\n",
    "df_item_frequent[\"supp\"] = df_item_frequent[\"frequencia\"] / n_trans\n",
    "df_item_frequent"
   ]
  },
  {
   "cell_type": "code",
   "execution_count": null,
   "id": "cfdcc314",
   "metadata": {},
   "outputs": [],
   "source": []
  },
  {
   "cell_type": "code",
   "execution_count": 7,
   "id": "c87eedb2",
   "metadata": {},
   "outputs": [
    {
     "name": "stderr",
     "output_type": "stream",
     "text": [
      "100%|██████████| 4/4 [00:00<00:00, 3827.79it/s]\n"
     ]
    },
    {
     "data": {
      "text/html": [
       "<div>\n",
       "<style scoped>\n",
       "    .dataframe tbody tr th:only-of-type {\n",
       "        vertical-align: middle;\n",
       "    }\n",
       "\n",
       "    .dataframe tbody tr th {\n",
       "        vertical-align: top;\n",
       "    }\n",
       "\n",
       "    .dataframe thead th {\n",
       "        text-align: right;\n",
       "    }\n",
       "</style>\n",
       "<table border=\"1\" class=\"dataframe\">\n",
       "  <thead>\n",
       "    <tr style=\"text-align: right;\">\n",
       "      <th></th>\n",
       "      <th>itemset</th>\n",
       "      <th>frequencia</th>\n",
       "      <th>supp</th>\n",
       "    </tr>\n",
       "  </thead>\n",
       "  <tbody>\n",
       "    <tr>\n",
       "      <th>5</th>\n",
       "      <td>(potato,)</td>\n",
       "      <td>5</td>\n",
       "      <td>0.833333</td>\n",
       "    </tr>\n",
       "    <tr>\n",
       "      <th>1</th>\n",
       "      <td>(potato, burguer)</td>\n",
       "      <td>4</td>\n",
       "      <td>0.666667</td>\n",
       "    </tr>\n",
       "    <tr>\n",
       "      <th>3</th>\n",
       "      <td>(potato, onion)</td>\n",
       "      <td>4</td>\n",
       "      <td>0.666667</td>\n",
       "    </tr>\n",
       "    <tr>\n",
       "      <th>6</th>\n",
       "      <td>(burguer,)</td>\n",
       "      <td>4</td>\n",
       "      <td>0.666667</td>\n",
       "    </tr>\n",
       "    <tr>\n",
       "      <th>7</th>\n",
       "      <td>(milk,)</td>\n",
       "      <td>4</td>\n",
       "      <td>0.666667</td>\n",
       "    </tr>\n",
       "    <tr>\n",
       "      <th>8</th>\n",
       "      <td>(onion,)</td>\n",
       "      <td>4</td>\n",
       "      <td>0.666667</td>\n",
       "    </tr>\n",
       "    <tr>\n",
       "      <th>0</th>\n",
       "      <td>(potato, burguer, onion)</td>\n",
       "      <td>3</td>\n",
       "      <td>0.500000</td>\n",
       "    </tr>\n",
       "    <tr>\n",
       "      <th>2</th>\n",
       "      <td>(potato, milk)</td>\n",
       "      <td>3</td>\n",
       "      <td>0.500000</td>\n",
       "    </tr>\n",
       "    <tr>\n",
       "      <th>4</th>\n",
       "      <td>(burguer, onion)</td>\n",
       "      <td>3</td>\n",
       "      <td>0.500000</td>\n",
       "    </tr>\n",
       "  </tbody>\n",
       "</table>\n",
       "</div>"
      ],
      "text/plain": [
       "                    itemset  frequencia      supp\n",
       "5                 (potato,)           5  0.833333\n",
       "1         (potato, burguer)           4  0.666667\n",
       "3           (potato, onion)           4  0.666667\n",
       "6                (burguer,)           4  0.666667\n",
       "7                   (milk,)           4  0.666667\n",
       "8                  (onion,)           4  0.666667\n",
       "0  (potato, burguer, onion)           3  0.500000\n",
       "2            (potato, milk)           3  0.500000\n",
       "4          (burguer, onion)           3  0.500000"
      ]
     },
     "execution_count": 7,
     "metadata": {},
     "output_type": "execute_result"
    },
    {
     "data": {
      "application/javascript": [
       "\n",
       "            setTimeout(function() {\n",
       "                var nbb_cell_id = 7;\n",
       "                var nbb_unformatted_code = \"itemset_frequencia = []  # pd.DataFrame(columns=[\\\"itemset\\\", \\\"frequencia\\\"])\\nfor i in tqdm(np.arange(len(df_item_frequent), 0, -1)):\\n    comb = list(combinations(df_item_frequent[\\\"produto\\\"].values, i))\\n    for w in comb:\\n        count = 0\\n        for instancia in df_values:\\n            if all(elem in instancia for elem in w):\\n                count = count + 1\\n        if count >= n_minimum_support:\\n            itemset_frequencia.append({\\\"itemset\\\": w, \\\"frequencia\\\": count})\\ndf_itemset_frequencia = pd.DataFrame(itemset_frequencia)\\ndf_itemset_frequencia.sort_values(by=\\\"frequencia\\\", inplace=True, ascending=False)\\ndf_item_frequent.set_index(\\\"produto\\\", inplace=True)\\ndf_itemset_frequencia[\\\"supp\\\"] = df_itemset_frequencia[\\\"frequencia\\\"] / n_trans\\ndf_itemset_frequencia\";\n",
       "                var nbb_formatted_code = \"itemset_frequencia = []  # pd.DataFrame(columns=[\\\"itemset\\\", \\\"frequencia\\\"])\\nfor i in tqdm(np.arange(len(df_item_frequent), 0, -1)):\\n    comb = list(combinations(df_item_frequent[\\\"produto\\\"].values, i))\\n    for w in comb:\\n        count = 0\\n        for instancia in df_values:\\n            if all(elem in instancia for elem in w):\\n                count = count + 1\\n        if count >= n_minimum_support:\\n            itemset_frequencia.append({\\\"itemset\\\": w, \\\"frequencia\\\": count})\\ndf_itemset_frequencia = pd.DataFrame(itemset_frequencia)\\ndf_itemset_frequencia.sort_values(by=\\\"frequencia\\\", inplace=True, ascending=False)\\ndf_item_frequent.set_index(\\\"produto\\\", inplace=True)\\ndf_itemset_frequencia[\\\"supp\\\"] = df_itemset_frequencia[\\\"frequencia\\\"] / n_trans\\ndf_itemset_frequencia\";\n",
       "                var nbb_cells = Jupyter.notebook.get_cells();\n",
       "                for (var i = 0; i < nbb_cells.length; ++i) {\n",
       "                    if (nbb_cells[i].input_prompt_number == nbb_cell_id) {\n",
       "                        if (nbb_cells[i].get_text() == nbb_unformatted_code) {\n",
       "                             nbb_cells[i].set_text(nbb_formatted_code);\n",
       "                        }\n",
       "                        break;\n",
       "                    }\n",
       "                }\n",
       "            }, 500);\n",
       "            "
      ],
      "text/plain": [
       "<IPython.core.display.Javascript object>"
      ]
     },
     "metadata": {},
     "output_type": "display_data"
    }
   ],
   "source": [
    "itemset_frequencia = []  # pd.DataFrame(columns=[\"itemset\", \"frequencia\"])\n",
    "for i in tqdm(np.arange(len(df_item_frequent), 0, -1)):\n",
    "    comb = list(combinations(df_item_frequent[\"produto\"].values, i))\n",
    "    for w in comb:\n",
    "        count = 0\n",
    "        for instancia in df_values:\n",
    "            if all(elem in instancia for elem in w):\n",
    "                count = count + 1\n",
    "        if count >= n_minimum_support:\n",
    "            itemset_frequencia.append({\"itemset\": w, \"frequencia\": count})\n",
    "df_itemset_frequencia = pd.DataFrame(itemset_frequencia)\n",
    "df_itemset_frequencia.sort_values(by=\"frequencia\", inplace=True, ascending=False)\n",
    "df_item_frequent.set_index(\"produto\", inplace=True)\n",
    "df_itemset_frequencia[\"supp\"] = df_itemset_frequencia[\"frequencia\"] / n_trans\n",
    "df_itemset_frequencia"
   ]
  },
  {
   "cell_type": "code",
   "execution_count": 8,
   "id": "a98366d6",
   "metadata": {},
   "outputs": [
    {
     "data": {
      "text/html": [
       "<div>\n",
       "<style scoped>\n",
       "    .dataframe tbody tr th:only-of-type {\n",
       "        vertical-align: middle;\n",
       "    }\n",
       "\n",
       "    .dataframe tbody tr th {\n",
       "        vertical-align: top;\n",
       "    }\n",
       "\n",
       "    .dataframe thead th {\n",
       "        text-align: right;\n",
       "    }\n",
       "</style>\n",
       "<table border=\"1\" class=\"dataframe\">\n",
       "  <thead>\n",
       "    <tr style=\"text-align: right;\">\n",
       "      <th></th>\n",
       "      <th>itemset</th>\n",
       "      <th>frequencia</th>\n",
       "      <th>supp</th>\n",
       "    </tr>\n",
       "  </thead>\n",
       "  <tbody>\n",
       "    <tr>\n",
       "      <th>5</th>\n",
       "      <td>(potato,)</td>\n",
       "      <td>5</td>\n",
       "      <td>0.833333</td>\n",
       "    </tr>\n",
       "    <tr>\n",
       "      <th>1</th>\n",
       "      <td>(potato, burguer)</td>\n",
       "      <td>4</td>\n",
       "      <td>0.666667</td>\n",
       "    </tr>\n",
       "    <tr>\n",
       "      <th>3</th>\n",
       "      <td>(potato, onion)</td>\n",
       "      <td>4</td>\n",
       "      <td>0.666667</td>\n",
       "    </tr>\n",
       "    <tr>\n",
       "      <th>6</th>\n",
       "      <td>(burguer,)</td>\n",
       "      <td>4</td>\n",
       "      <td>0.666667</td>\n",
       "    </tr>\n",
       "    <tr>\n",
       "      <th>7</th>\n",
       "      <td>(milk,)</td>\n",
       "      <td>4</td>\n",
       "      <td>0.666667</td>\n",
       "    </tr>\n",
       "    <tr>\n",
       "      <th>8</th>\n",
       "      <td>(onion,)</td>\n",
       "      <td>4</td>\n",
       "      <td>0.666667</td>\n",
       "    </tr>\n",
       "    <tr>\n",
       "      <th>0</th>\n",
       "      <td>(potato, burguer, onion)</td>\n",
       "      <td>3</td>\n",
       "      <td>0.500000</td>\n",
       "    </tr>\n",
       "    <tr>\n",
       "      <th>2</th>\n",
       "      <td>(potato, milk)</td>\n",
       "      <td>3</td>\n",
       "      <td>0.500000</td>\n",
       "    </tr>\n",
       "    <tr>\n",
       "      <th>4</th>\n",
       "      <td>(burguer, onion)</td>\n",
       "      <td>3</td>\n",
       "      <td>0.500000</td>\n",
       "    </tr>\n",
       "  </tbody>\n",
       "</table>\n",
       "</div>"
      ],
      "text/plain": [
       "                    itemset  frequencia      supp\n",
       "5                 (potato,)           5  0.833333\n",
       "1         (potato, burguer)           4  0.666667\n",
       "3           (potato, onion)           4  0.666667\n",
       "6                (burguer,)           4  0.666667\n",
       "7                   (milk,)           4  0.666667\n",
       "8                  (onion,)           4  0.666667\n",
       "0  (potato, burguer, onion)           3  0.500000\n",
       "2            (potato, milk)           3  0.500000\n",
       "4          (burguer, onion)           3  0.500000"
      ]
     },
     "execution_count": 8,
     "metadata": {},
     "output_type": "execute_result"
    },
    {
     "data": {
      "application/javascript": [
       "\n",
       "            setTimeout(function() {\n",
       "                var nbb_cell_id = 8;\n",
       "                var nbb_unformatted_code = \"df_itemset_frequencia\";\n",
       "                var nbb_formatted_code = \"df_itemset_frequencia\";\n",
       "                var nbb_cells = Jupyter.notebook.get_cells();\n",
       "                for (var i = 0; i < nbb_cells.length; ++i) {\n",
       "                    if (nbb_cells[i].input_prompt_number == nbb_cell_id) {\n",
       "                        if (nbb_cells[i].get_text() == nbb_unformatted_code) {\n",
       "                             nbb_cells[i].set_text(nbb_formatted_code);\n",
       "                        }\n",
       "                        break;\n",
       "                    }\n",
       "                }\n",
       "            }, 500);\n",
       "            "
      ],
      "text/plain": [
       "<IPython.core.display.Javascript object>"
      ]
     },
     "metadata": {},
     "output_type": "display_data"
    }
   ],
   "source": [
    "df_itemset_frequencia"
   ]
  },
  {
   "cell_type": "markdown",
   "id": "bc564400",
   "metadata": {},
   "source": [
    "# Support"
   ]
  },
  {
   "cell_type": "markdown",
   "id": "a7d80087",
   "metadata": {},
   "source": [
    "A probabilidade da combinação x acontecer em relação ao total de operações "
   ]
  },
  {
   "cell_type": "code",
   "execution_count": 9,
   "id": "63e80602",
   "metadata": {},
   "outputs": [
    {
     "data": {
      "application/javascript": [
       "\n",
       "            setTimeout(function() {\n",
       "                var nbb_cell_id = 9;\n",
       "                var nbb_unformatted_code = \"df_itemset_frequencia[\\\"supp\\\"] = df_itemset_frequencia[\\\"frequencia\\\"] / n_trans\";\n",
       "                var nbb_formatted_code = \"df_itemset_frequencia[\\\"supp\\\"] = df_itemset_frequencia[\\\"frequencia\\\"] / n_trans\";\n",
       "                var nbb_cells = Jupyter.notebook.get_cells();\n",
       "                for (var i = 0; i < nbb_cells.length; ++i) {\n",
       "                    if (nbb_cells[i].input_prompt_number == nbb_cell_id) {\n",
       "                        if (nbb_cells[i].get_text() == nbb_unformatted_code) {\n",
       "                             nbb_cells[i].set_text(nbb_formatted_code);\n",
       "                        }\n",
       "                        break;\n",
       "                    }\n",
       "                }\n",
       "            }, 500);\n",
       "            "
      ],
      "text/plain": [
       "<IPython.core.display.Javascript object>"
      ]
     },
     "metadata": {},
     "output_type": "display_data"
    }
   ],
   "source": [
    "df_itemset_frequencia[\"supp\"] = df_itemset_frequencia[\"frequencia\"] / n_trans"
   ]
  },
  {
   "cell_type": "code",
   "execution_count": 10,
   "id": "b315a42b",
   "metadata": {},
   "outputs": [
    {
     "data": {
      "text/html": [
       "<div>\n",
       "<style scoped>\n",
       "    .dataframe tbody tr th:only-of-type {\n",
       "        vertical-align: middle;\n",
       "    }\n",
       "\n",
       "    .dataframe tbody tr th {\n",
       "        vertical-align: top;\n",
       "    }\n",
       "\n",
       "    .dataframe thead th {\n",
       "        text-align: right;\n",
       "    }\n",
       "</style>\n",
       "<table border=\"1\" class=\"dataframe\">\n",
       "  <thead>\n",
       "    <tr style=\"text-align: right;\">\n",
       "      <th></th>\n",
       "      <th>itemset</th>\n",
       "      <th>frequencia</th>\n",
       "      <th>supp</th>\n",
       "    </tr>\n",
       "  </thead>\n",
       "  <tbody>\n",
       "    <tr>\n",
       "      <th>5</th>\n",
       "      <td>(potato,)</td>\n",
       "      <td>5</td>\n",
       "      <td>0.833333</td>\n",
       "    </tr>\n",
       "    <tr>\n",
       "      <th>1</th>\n",
       "      <td>(potato, burguer)</td>\n",
       "      <td>4</td>\n",
       "      <td>0.666667</td>\n",
       "    </tr>\n",
       "    <tr>\n",
       "      <th>3</th>\n",
       "      <td>(potato, onion)</td>\n",
       "      <td>4</td>\n",
       "      <td>0.666667</td>\n",
       "    </tr>\n",
       "    <tr>\n",
       "      <th>6</th>\n",
       "      <td>(burguer,)</td>\n",
       "      <td>4</td>\n",
       "      <td>0.666667</td>\n",
       "    </tr>\n",
       "    <tr>\n",
       "      <th>7</th>\n",
       "      <td>(milk,)</td>\n",
       "      <td>4</td>\n",
       "      <td>0.666667</td>\n",
       "    </tr>\n",
       "    <tr>\n",
       "      <th>8</th>\n",
       "      <td>(onion,)</td>\n",
       "      <td>4</td>\n",
       "      <td>0.666667</td>\n",
       "    </tr>\n",
       "    <tr>\n",
       "      <th>0</th>\n",
       "      <td>(potato, burguer, onion)</td>\n",
       "      <td>3</td>\n",
       "      <td>0.500000</td>\n",
       "    </tr>\n",
       "    <tr>\n",
       "      <th>2</th>\n",
       "      <td>(potato, milk)</td>\n",
       "      <td>3</td>\n",
       "      <td>0.500000</td>\n",
       "    </tr>\n",
       "    <tr>\n",
       "      <th>4</th>\n",
       "      <td>(burguer, onion)</td>\n",
       "      <td>3</td>\n",
       "      <td>0.500000</td>\n",
       "    </tr>\n",
       "  </tbody>\n",
       "</table>\n",
       "</div>"
      ],
      "text/plain": [
       "                    itemset  frequencia      supp\n",
       "5                 (potato,)           5  0.833333\n",
       "1         (potato, burguer)           4  0.666667\n",
       "3           (potato, onion)           4  0.666667\n",
       "6                (burguer,)           4  0.666667\n",
       "7                   (milk,)           4  0.666667\n",
       "8                  (onion,)           4  0.666667\n",
       "0  (potato, burguer, onion)           3  0.500000\n",
       "2            (potato, milk)           3  0.500000\n",
       "4          (burguer, onion)           3  0.500000"
      ]
     },
     "execution_count": 10,
     "metadata": {},
     "output_type": "execute_result"
    },
    {
     "data": {
      "application/javascript": [
       "\n",
       "            setTimeout(function() {\n",
       "                var nbb_cell_id = 10;\n",
       "                var nbb_unformatted_code = \"df_itemset_frequencia\";\n",
       "                var nbb_formatted_code = \"df_itemset_frequencia\";\n",
       "                var nbb_cells = Jupyter.notebook.get_cells();\n",
       "                for (var i = 0; i < nbb_cells.length; ++i) {\n",
       "                    if (nbb_cells[i].input_prompt_number == nbb_cell_id) {\n",
       "                        if (nbb_cells[i].get_text() == nbb_unformatted_code) {\n",
       "                             nbb_cells[i].set_text(nbb_formatted_code);\n",
       "                        }\n",
       "                        break;\n",
       "                    }\n",
       "                }\n",
       "            }, 500);\n",
       "            "
      ],
      "text/plain": [
       "<IPython.core.display.Javascript object>"
      ]
     },
     "metadata": {},
     "output_type": "display_data"
    }
   ],
   "source": [
    "df_itemset_frequencia"
   ]
  },
  {
   "cell_type": "code",
   "execution_count": 11,
   "id": "e64be03f",
   "metadata": {},
   "outputs": [
    {
     "data": {
      "text/html": [
       "<div>\n",
       "<style scoped>\n",
       "    .dataframe tbody tr th:only-of-type {\n",
       "        vertical-align: middle;\n",
       "    }\n",
       "\n",
       "    .dataframe tbody tr th {\n",
       "        vertical-align: top;\n",
       "    }\n",
       "\n",
       "    .dataframe thead th {\n",
       "        text-align: right;\n",
       "    }\n",
       "</style>\n",
       "<table border=\"1\" class=\"dataframe\">\n",
       "  <thead>\n",
       "    <tr style=\"text-align: right;\">\n",
       "      <th></th>\n",
       "      <th>frequencia</th>\n",
       "      <th>supp</th>\n",
       "    </tr>\n",
       "    <tr>\n",
       "      <th>produto</th>\n",
       "      <th></th>\n",
       "      <th></th>\n",
       "    </tr>\n",
       "  </thead>\n",
       "  <tbody>\n",
       "    <tr>\n",
       "      <th>potato</th>\n",
       "      <td>5</td>\n",
       "      <td>0.833333</td>\n",
       "    </tr>\n",
       "    <tr>\n",
       "      <th>burguer</th>\n",
       "      <td>4</td>\n",
       "      <td>0.666667</td>\n",
       "    </tr>\n",
       "    <tr>\n",
       "      <th>milk</th>\n",
       "      <td>4</td>\n",
       "      <td>0.666667</td>\n",
       "    </tr>\n",
       "    <tr>\n",
       "      <th>onion</th>\n",
       "      <td>4</td>\n",
       "      <td>0.666667</td>\n",
       "    </tr>\n",
       "  </tbody>\n",
       "</table>\n",
       "</div>"
      ],
      "text/plain": [
       "         frequencia      supp\n",
       "produto                      \n",
       "potato            5  0.833333\n",
       "burguer           4  0.666667\n",
       "milk              4  0.666667\n",
       "onion             4  0.666667"
      ]
     },
     "execution_count": 11,
     "metadata": {},
     "output_type": "execute_result"
    },
    {
     "data": {
      "application/javascript": [
       "\n",
       "            setTimeout(function() {\n",
       "                var nbb_cell_id = 11;\n",
       "                var nbb_unformatted_code = \"df_item_frequent\";\n",
       "                var nbb_formatted_code = \"df_item_frequent\";\n",
       "                var nbb_cells = Jupyter.notebook.get_cells();\n",
       "                for (var i = 0; i < nbb_cells.length; ++i) {\n",
       "                    if (nbb_cells[i].input_prompt_number == nbb_cell_id) {\n",
       "                        if (nbb_cells[i].get_text() == nbb_unformatted_code) {\n",
       "                             nbb_cells[i].set_text(nbb_formatted_code);\n",
       "                        }\n",
       "                        break;\n",
       "                    }\n",
       "                }\n",
       "            }, 500);\n",
       "            "
      ],
      "text/plain": [
       "<IPython.core.display.Javascript object>"
      ]
     },
     "metadata": {},
     "output_type": "display_data"
    }
   ],
   "source": [
    "df_item_frequent"
   ]
  },
  {
   "cell_type": "code",
   "execution_count": 12,
   "id": "1332f45c",
   "metadata": {
    "scrolled": true
   },
   "outputs": [
    {
     "name": "stderr",
     "output_type": "stream",
     "text": [
      "100%|██████████| 9/9 [00:00<00:00, 335.77it/s]\n"
     ]
    },
    {
     "data": {
      "text/html": [
       "<div>\n",
       "<style scoped>\n",
       "    .dataframe tbody tr th:only-of-type {\n",
       "        vertical-align: middle;\n",
       "    }\n",
       "\n",
       "    .dataframe tbody tr th {\n",
       "        vertical-align: top;\n",
       "    }\n",
       "\n",
       "    .dataframe thead th {\n",
       "        text-align: right;\n",
       "    }\n",
       "</style>\n",
       "<table border=\"1\" class=\"dataframe\">\n",
       "  <thead>\n",
       "    <tr style=\"text-align: right;\">\n",
       "      <th></th>\n",
       "      <th>B</th>\n",
       "      <th>A</th>\n",
       "      <th>confidence</th>\n",
       "      <th>lift</th>\n",
       "    </tr>\n",
       "  </thead>\n",
       "  <tbody>\n",
       "    <tr>\n",
       "      <th>0</th>\n",
       "      <td>{burguer}</td>\n",
       "      <td>(potato,)</td>\n",
       "      <td>80.0</td>\n",
       "      <td>1.20</td>\n",
       "    </tr>\n",
       "    <tr>\n",
       "      <th>1</th>\n",
       "      <td>{onion}</td>\n",
       "      <td>(potato,)</td>\n",
       "      <td>80.0</td>\n",
       "      <td>1.20</td>\n",
       "    </tr>\n",
       "    <tr>\n",
       "      <th>2</th>\n",
       "      <td>{onion, burguer}</td>\n",
       "      <td>(potato,)</td>\n",
       "      <td>60.0</td>\n",
       "      <td>1.35</td>\n",
       "    </tr>\n",
       "    <tr>\n",
       "      <th>3</th>\n",
       "      <td>{milk}</td>\n",
       "      <td>(potato,)</td>\n",
       "      <td>60.0</td>\n",
       "      <td>0.90</td>\n",
       "    </tr>\n",
       "    <tr>\n",
       "      <th>4</th>\n",
       "      <td>{onion}</td>\n",
       "      <td>(potato, burguer)</td>\n",
       "      <td>75.0</td>\n",
       "      <td>1.35</td>\n",
       "    </tr>\n",
       "    <tr>\n",
       "      <th>5</th>\n",
       "      <td>{burguer}</td>\n",
       "      <td>(potato, onion)</td>\n",
       "      <td>75.0</td>\n",
       "      <td>1.35</td>\n",
       "    </tr>\n",
       "    <tr>\n",
       "      <th>6</th>\n",
       "      <td>{potato}</td>\n",
       "      <td>(burguer,)</td>\n",
       "      <td>100.0</td>\n",
       "      <td>1.20</td>\n",
       "    </tr>\n",
       "    <tr>\n",
       "      <th>7</th>\n",
       "      <td>{potato, onion}</td>\n",
       "      <td>(burguer,)</td>\n",
       "      <td>75.0</td>\n",
       "      <td>1.35</td>\n",
       "    </tr>\n",
       "    <tr>\n",
       "      <th>8</th>\n",
       "      <td>{onion}</td>\n",
       "      <td>(burguer,)</td>\n",
       "      <td>75.0</td>\n",
       "      <td>1.12</td>\n",
       "    </tr>\n",
       "    <tr>\n",
       "      <th>9</th>\n",
       "      <td>{potato}</td>\n",
       "      <td>(milk,)</td>\n",
       "      <td>75.0</td>\n",
       "      <td>0.90</td>\n",
       "    </tr>\n",
       "    <tr>\n",
       "      <th>10</th>\n",
       "      <td>{potato}</td>\n",
       "      <td>(onion,)</td>\n",
       "      <td>100.0</td>\n",
       "      <td>1.20</td>\n",
       "    </tr>\n",
       "    <tr>\n",
       "      <th>11</th>\n",
       "      <td>{potato, burguer}</td>\n",
       "      <td>(onion,)</td>\n",
       "      <td>75.0</td>\n",
       "      <td>1.35</td>\n",
       "    </tr>\n",
       "    <tr>\n",
       "      <th>12</th>\n",
       "      <td>{burguer}</td>\n",
       "      <td>(onion,)</td>\n",
       "      <td>75.0</td>\n",
       "      <td>1.12</td>\n",
       "    </tr>\n",
       "    <tr>\n",
       "      <th>13</th>\n",
       "      <td>{potato}</td>\n",
       "      <td>(burguer, onion)</td>\n",
       "      <td>100.0</td>\n",
       "      <td>1.35</td>\n",
       "    </tr>\n",
       "  </tbody>\n",
       "</table>\n",
       "</div>"
      ],
      "text/plain": [
       "                    B                  A  confidence  lift\n",
       "0           {burguer}          (potato,)        80.0  1.20\n",
       "1             {onion}          (potato,)        80.0  1.20\n",
       "2    {onion, burguer}          (potato,)        60.0  1.35\n",
       "3              {milk}          (potato,)        60.0  0.90\n",
       "4             {onion}  (potato, burguer)        75.0  1.35\n",
       "5           {burguer}    (potato, onion)        75.0  1.35\n",
       "6            {potato}         (burguer,)       100.0  1.20\n",
       "7     {potato, onion}         (burguer,)        75.0  1.35\n",
       "8             {onion}         (burguer,)        75.0  1.12\n",
       "9            {potato}            (milk,)        75.0  0.90\n",
       "10           {potato}           (onion,)       100.0  1.20\n",
       "11  {potato, burguer}           (onion,)        75.0  1.35\n",
       "12          {burguer}           (onion,)        75.0  1.12\n",
       "13           {potato}   (burguer, onion)       100.0  1.35"
      ]
     },
     "execution_count": 12,
     "metadata": {},
     "output_type": "execute_result"
    },
    {
     "data": {
      "application/javascript": [
       "\n",
       "            setTimeout(function() {\n",
       "                var nbb_cell_id = 12;\n",
       "                var nbb_unformatted_code = \"prob = []\\nfor item, supp in tqdm(df_itemset_frequencia[[\\\"itemset\\\", \\\"supp\\\"]].values):\\n    s = round(supp * 100, 2)\\n    for conjunto, supp_c in df_itemset_frequencia[[\\\"itemset\\\", \\\"supp\\\"]].values:\\n\\n        conf = round((supp_c / supp) * 100, 2)\\n        lift = round(\\n            supp_c / np.prod([df_item_frequent.loc[i][\\\"supp\\\"] for i in conjunto]), 2\\n        )\\n        conj = set(conjunto) - set(item)\\n        if set(item).intersection(set(conjunto)) == set(item):\\n            if len(conj) > 0 and conf > 0:\\n                prob.append([conj, item, conf, lift])\\ndf = pd.DataFrame(prob, columns=[\\\"B\\\", \\\"A\\\", \\\"confidence\\\", \\\"lift\\\"])\\ndf\";\n",
       "                var nbb_formatted_code = \"prob = []\\nfor item, supp in tqdm(df_itemset_frequencia[[\\\"itemset\\\", \\\"supp\\\"]].values):\\n    s = round(supp * 100, 2)\\n    for conjunto, supp_c in df_itemset_frequencia[[\\\"itemset\\\", \\\"supp\\\"]].values:\\n\\n        conf = round((supp_c / supp) * 100, 2)\\n        lift = round(\\n            supp_c / np.prod([df_item_frequent.loc[i][\\\"supp\\\"] for i in conjunto]), 2\\n        )\\n        conj = set(conjunto) - set(item)\\n        if set(item).intersection(set(conjunto)) == set(item):\\n            if len(conj) > 0 and conf > 0:\\n                prob.append([conj, item, conf, lift])\\ndf = pd.DataFrame(prob, columns=[\\\"B\\\", \\\"A\\\", \\\"confidence\\\", \\\"lift\\\"])\\ndf\";\n",
       "                var nbb_cells = Jupyter.notebook.get_cells();\n",
       "                for (var i = 0; i < nbb_cells.length; ++i) {\n",
       "                    if (nbb_cells[i].input_prompt_number == nbb_cell_id) {\n",
       "                        if (nbb_cells[i].get_text() == nbb_unformatted_code) {\n",
       "                             nbb_cells[i].set_text(nbb_formatted_code);\n",
       "                        }\n",
       "                        break;\n",
       "                    }\n",
       "                }\n",
       "            }, 500);\n",
       "            "
      ],
      "text/plain": [
       "<IPython.core.display.Javascript object>"
      ]
     },
     "metadata": {},
     "output_type": "display_data"
    }
   ],
   "source": [
    "prob = []\n",
    "for item, supp in tqdm(df_itemset_frequencia[[\"itemset\", \"supp\"]].values):\n",
    "    s = round(supp * 100, 2)\n",
    "    for conjunto, supp_c in df_itemset_frequencia[[\"itemset\", \"supp\"]].values:\n",
    "\n",
    "        conf = round((supp_c / supp) * 100, 2)\n",
    "        lift = round(\n",
    "            supp_c / np.prod([df_item_frequent.loc[i][\"supp\"] for i in conjunto]), 2\n",
    "        )\n",
    "        conj = set(conjunto) - set(item)\n",
    "        if set(item).intersection(set(conjunto)) == set(item):\n",
    "            if len(conj) > 0 and conf > 0:\n",
    "                prob.append([conj, item, conf, lift])\n",
    "df = pd.DataFrame(prob, columns=[\"B\", \"A\", \"confidence\", \"lift\"])\n",
    "df"
   ]
  },
  {
   "cell_type": "code",
   "execution_count": 13,
   "id": "421fd2f6",
   "metadata": {},
   "outputs": [
    {
     "data": {
      "text/html": [
       "<div>\n",
       "<style scoped>\n",
       "    .dataframe tbody tr th:only-of-type {\n",
       "        vertical-align: middle;\n",
       "    }\n",
       "\n",
       "    .dataframe tbody tr th {\n",
       "        vertical-align: top;\n",
       "    }\n",
       "\n",
       "    .dataframe thead th {\n",
       "        text-align: right;\n",
       "    }\n",
       "</style>\n",
       "<table border=\"1\" class=\"dataframe\">\n",
       "  <thead>\n",
       "    <tr style=\"text-align: right;\">\n",
       "      <th></th>\n",
       "      <th>0</th>\n",
       "      <th>1</th>\n",
       "      <th>2</th>\n",
       "      <th>3</th>\n",
       "      <th>4</th>\n",
       "    </tr>\n",
       "  </thead>\n",
       "  <tbody>\n",
       "    <tr>\n",
       "      <th>0</th>\n",
       "      <td>onion</td>\n",
       "      <td>potato</td>\n",
       "      <td>burguer</td>\n",
       "      <td>false</td>\n",
       "      <td>false</td>\n",
       "    </tr>\n",
       "    <tr>\n",
       "      <th>3</th>\n",
       "      <td>onion</td>\n",
       "      <td>potato</td>\n",
       "      <td>false</td>\n",
       "      <td>milk</td>\n",
       "      <td>false</td>\n",
       "    </tr>\n",
       "    <tr>\n",
       "      <th>4</th>\n",
       "      <td>onion</td>\n",
       "      <td>potato</td>\n",
       "      <td>burguer</td>\n",
       "      <td>false</td>\n",
       "      <td>beer</td>\n",
       "    </tr>\n",
       "    <tr>\n",
       "      <th>5</th>\n",
       "      <td>onion</td>\n",
       "      <td>potato</td>\n",
       "      <td>burguer</td>\n",
       "      <td>milk</td>\n",
       "      <td>beer</td>\n",
       "    </tr>\n",
       "  </tbody>\n",
       "</table>\n",
       "</div>"
      ],
      "text/plain": [
       "       0       1        2      3      4\n",
       "0  onion  potato  burguer  false  false\n",
       "3  onion  potato    false   milk  false\n",
       "4  onion  potato  burguer  false   beer\n",
       "5  onion  potato  burguer   milk   beer"
      ]
     },
     "execution_count": 13,
     "metadata": {},
     "output_type": "execute_result"
    },
    {
     "data": {
      "application/javascript": [
       "\n",
       "            setTimeout(function() {\n",
       "                var nbb_cell_id = 13;\n",
       "                var nbb_unformatted_code = \"df_mining[(df_mining[0] == \\\"onion\\\")]\";\n",
       "                var nbb_formatted_code = \"df_mining[(df_mining[0] == \\\"onion\\\")]\";\n",
       "                var nbb_cells = Jupyter.notebook.get_cells();\n",
       "                for (var i = 0; i < nbb_cells.length; ++i) {\n",
       "                    if (nbb_cells[i].input_prompt_number == nbb_cell_id) {\n",
       "                        if (nbb_cells[i].get_text() == nbb_unformatted_code) {\n",
       "                             nbb_cells[i].set_text(nbb_formatted_code);\n",
       "                        }\n",
       "                        break;\n",
       "                    }\n",
       "                }\n",
       "            }, 500);\n",
       "            "
      ],
      "text/plain": [
       "<IPython.core.display.Javascript object>"
      ]
     },
     "metadata": {},
     "output_type": "display_data"
    }
   ],
   "source": [
    "df_mining[(df_mining[0] == \"onion\")]"
   ]
  },
  {
   "cell_type": "code",
   "execution_count": 14,
   "id": "66569eb1",
   "metadata": {},
   "outputs": [
    {
     "data": {
      "text/html": [
       "<div>\n",
       "<style scoped>\n",
       "    .dataframe tbody tr th:only-of-type {\n",
       "        vertical-align: middle;\n",
       "    }\n",
       "\n",
       "    .dataframe tbody tr th {\n",
       "        vertical-align: top;\n",
       "    }\n",
       "\n",
       "    .dataframe thead th {\n",
       "        text-align: right;\n",
       "    }\n",
       "</style>\n",
       "<table border=\"1\" class=\"dataframe\">\n",
       "  <thead>\n",
       "    <tr style=\"text-align: right;\">\n",
       "      <th></th>\n",
       "      <th>0</th>\n",
       "      <th>1</th>\n",
       "      <th>2</th>\n",
       "      <th>3</th>\n",
       "      <th>4</th>\n",
       "    </tr>\n",
       "  </thead>\n",
       "  <tbody>\n",
       "    <tr>\n",
       "      <th>0</th>\n",
       "      <td>onion</td>\n",
       "      <td>potato</td>\n",
       "      <td>burguer</td>\n",
       "      <td>false</td>\n",
       "      <td>false</td>\n",
       "    </tr>\n",
       "    <tr>\n",
       "      <th>1</th>\n",
       "      <td>false</td>\n",
       "      <td>potato</td>\n",
       "      <td>burguer</td>\n",
       "      <td>milk</td>\n",
       "      <td>false</td>\n",
       "    </tr>\n",
       "    <tr>\n",
       "      <th>3</th>\n",
       "      <td>onion</td>\n",
       "      <td>potato</td>\n",
       "      <td>false</td>\n",
       "      <td>milk</td>\n",
       "      <td>false</td>\n",
       "    </tr>\n",
       "    <tr>\n",
       "      <th>4</th>\n",
       "      <td>onion</td>\n",
       "      <td>potato</td>\n",
       "      <td>burguer</td>\n",
       "      <td>false</td>\n",
       "      <td>beer</td>\n",
       "    </tr>\n",
       "    <tr>\n",
       "      <th>5</th>\n",
       "      <td>onion</td>\n",
       "      <td>potato</td>\n",
       "      <td>burguer</td>\n",
       "      <td>milk</td>\n",
       "      <td>beer</td>\n",
       "    </tr>\n",
       "  </tbody>\n",
       "</table>\n",
       "</div>"
      ],
      "text/plain": [
       "       0       1        2      3      4\n",
       "0  onion  potato  burguer  false  false\n",
       "1  false  potato  burguer   milk  false\n",
       "3  onion  potato    false   milk  false\n",
       "4  onion  potato  burguer  false   beer\n",
       "5  onion  potato  burguer   milk   beer"
      ]
     },
     "execution_count": 14,
     "metadata": {},
     "output_type": "execute_result"
    },
    {
     "data": {
      "application/javascript": [
       "\n",
       "            setTimeout(function() {\n",
       "                var nbb_cell_id = 14;\n",
       "                var nbb_unformatted_code = \"df_mining[(df_mining[1] == \\\"potato\\\")]\";\n",
       "                var nbb_formatted_code = \"df_mining[(df_mining[1] == \\\"potato\\\")]\";\n",
       "                var nbb_cells = Jupyter.notebook.get_cells();\n",
       "                for (var i = 0; i < nbb_cells.length; ++i) {\n",
       "                    if (nbb_cells[i].input_prompt_number == nbb_cell_id) {\n",
       "                        if (nbb_cells[i].get_text() == nbb_unformatted_code) {\n",
       "                             nbb_cells[i].set_text(nbb_formatted_code);\n",
       "                        }\n",
       "                        break;\n",
       "                    }\n",
       "                }\n",
       "            }, 500);\n",
       "            "
      ],
      "text/plain": [
       "<IPython.core.display.Javascript object>"
      ]
     },
     "metadata": {},
     "output_type": "display_data"
    }
   ],
   "source": [
    "df_mining[(df_mining[1] == \"potato\")]"
   ]
  },
  {
   "cell_type": "markdown",
   "id": "62c65393",
   "metadata": {},
   "source": [
    "# Confidence "
   ]
  },
  {
   "cell_type": "markdown",
   "id": "3850cc87",
   "metadata": {},
   "source": [
    "A probabilidade condicional da combinação dada outra combinação"
   ]
  },
  {
   "cell_type": "markdown",
   "id": "89bb8eac",
   "metadata": {},
   "source": [
    "probabilidade de comprar burguer dado que comprou potato "
   ]
  },
  {
   "cell_type": "code",
   "execution_count": 15,
   "id": "5380a8a6",
   "metadata": {},
   "outputs": [
    {
     "data": {
      "text/plain": [
       "0.7999999920031999"
      ]
     },
     "execution_count": 15,
     "metadata": {},
     "output_type": "execute_result"
    },
    {
     "data": {
      "application/javascript": [
       "\n",
       "            setTimeout(function() {\n",
       "                var nbb_cell_id = 15;\n",
       "                var nbb_unformatted_code = \"0.66666666 / 0.83333333333\";\n",
       "                var nbb_formatted_code = \"0.66666666 / 0.83333333333\";\n",
       "                var nbb_cells = Jupyter.notebook.get_cells();\n",
       "                for (var i = 0; i < nbb_cells.length; ++i) {\n",
       "                    if (nbb_cells[i].input_prompt_number == nbb_cell_id) {\n",
       "                        if (nbb_cells[i].get_text() == nbb_unformatted_code) {\n",
       "                             nbb_cells[i].set_text(nbb_formatted_code);\n",
       "                        }\n",
       "                        break;\n",
       "                    }\n",
       "                }\n",
       "            }, 500);\n",
       "            "
      ],
      "text/plain": [
       "<IPython.core.display.Javascript object>"
      ]
     },
     "metadata": {},
     "output_type": "display_data"
    }
   ],
   "source": [
    "0.66666666 / 0.83333333333"
   ]
  },
  {
   "cell_type": "markdown",
   "id": "7ee5fa3c",
   "metadata": {},
   "source": [
    "ou seja 80% das transações que potato, também compram burguer. "
   ]
  },
  {
   "cell_type": "markdown",
   "id": "a513e3fa",
   "metadata": {},
   "source": [
    "5 transações de potato, dessas 4 compram burguer"
   ]
  },
  {
   "cell_type": "code",
   "execution_count": 16,
   "id": "8b20ae6a",
   "metadata": {},
   "outputs": [
    {
     "data": {
      "text/html": [
       "<div>\n",
       "<style scoped>\n",
       "    .dataframe tbody tr th:only-of-type {\n",
       "        vertical-align: middle;\n",
       "    }\n",
       "\n",
       "    .dataframe tbody tr th {\n",
       "        vertical-align: top;\n",
       "    }\n",
       "\n",
       "    .dataframe thead th {\n",
       "        text-align: right;\n",
       "    }\n",
       "</style>\n",
       "<table border=\"1\" class=\"dataframe\">\n",
       "  <thead>\n",
       "    <tr style=\"text-align: right;\">\n",
       "      <th></th>\n",
       "      <th>0</th>\n",
       "      <th>1</th>\n",
       "      <th>2</th>\n",
       "      <th>3</th>\n",
       "      <th>4</th>\n",
       "    </tr>\n",
       "  </thead>\n",
       "  <tbody>\n",
       "    <tr>\n",
       "      <th>0</th>\n",
       "      <td>onion</td>\n",
       "      <td>potato</td>\n",
       "      <td>burguer</td>\n",
       "      <td>false</td>\n",
       "      <td>false</td>\n",
       "    </tr>\n",
       "    <tr>\n",
       "      <th>1</th>\n",
       "      <td>false</td>\n",
       "      <td>potato</td>\n",
       "      <td>burguer</td>\n",
       "      <td>milk</td>\n",
       "      <td>false</td>\n",
       "    </tr>\n",
       "    <tr>\n",
       "      <th>3</th>\n",
       "      <td>onion</td>\n",
       "      <td>potato</td>\n",
       "      <td>false</td>\n",
       "      <td>milk</td>\n",
       "      <td>false</td>\n",
       "    </tr>\n",
       "    <tr>\n",
       "      <th>4</th>\n",
       "      <td>onion</td>\n",
       "      <td>potato</td>\n",
       "      <td>burguer</td>\n",
       "      <td>false</td>\n",
       "      <td>beer</td>\n",
       "    </tr>\n",
       "    <tr>\n",
       "      <th>5</th>\n",
       "      <td>onion</td>\n",
       "      <td>potato</td>\n",
       "      <td>burguer</td>\n",
       "      <td>milk</td>\n",
       "      <td>beer</td>\n",
       "    </tr>\n",
       "  </tbody>\n",
       "</table>\n",
       "</div>"
      ],
      "text/plain": [
       "       0       1        2      3      4\n",
       "0  onion  potato  burguer  false  false\n",
       "1  false  potato  burguer   milk  false\n",
       "3  onion  potato    false   milk  false\n",
       "4  onion  potato  burguer  false   beer\n",
       "5  onion  potato  burguer   milk   beer"
      ]
     },
     "execution_count": 16,
     "metadata": {},
     "output_type": "execute_result"
    },
    {
     "data": {
      "application/javascript": [
       "\n",
       "            setTimeout(function() {\n",
       "                var nbb_cell_id = 16;\n",
       "                var nbb_unformatted_code = \"df_mining[(df_mining[1] == \\\"potato\\\")]\";\n",
       "                var nbb_formatted_code = \"df_mining[(df_mining[1] == \\\"potato\\\")]\";\n",
       "                var nbb_cells = Jupyter.notebook.get_cells();\n",
       "                for (var i = 0; i < nbb_cells.length; ++i) {\n",
       "                    if (nbb_cells[i].input_prompt_number == nbb_cell_id) {\n",
       "                        if (nbb_cells[i].get_text() == nbb_unformatted_code) {\n",
       "                             nbb_cells[i].set_text(nbb_formatted_code);\n",
       "                        }\n",
       "                        break;\n",
       "                    }\n",
       "                }\n",
       "            }, 500);\n",
       "            "
      ],
      "text/plain": [
       "<IPython.core.display.Javascript object>"
      ]
     },
     "metadata": {},
     "output_type": "display_data"
    }
   ],
   "source": [
    "df_mining[(df_mining[1] == \"potato\")]"
   ]
  },
  {
   "cell_type": "markdown",
   "id": "a0074c1c",
   "metadata": {},
   "source": [
    "outro exemplo:"
   ]
  },
  {
   "cell_type": "markdown",
   "id": "37af08e7",
   "metadata": {},
   "source": [
    "probabilidade de comprar burguer and onion dado que comprou potato "
   ]
  },
  {
   "cell_type": "code",
   "execution_count": 17,
   "id": "e3526ce7",
   "metadata": {},
   "outputs": [
    {
     "data": {
      "text/plain": [
       "1.0"
      ]
     },
     "execution_count": 17,
     "metadata": {},
     "output_type": "execute_result"
    },
    {
     "data": {
      "application/javascript": [
       "\n",
       "            setTimeout(function() {\n",
       "                var nbb_cell_id = 17;\n",
       "                var nbb_unformatted_code = \"0.5 / 0.5\";\n",
       "                var nbb_formatted_code = \"0.5 / 0.5\";\n",
       "                var nbb_cells = Jupyter.notebook.get_cells();\n",
       "                for (var i = 0; i < nbb_cells.length; ++i) {\n",
       "                    if (nbb_cells[i].input_prompt_number == nbb_cell_id) {\n",
       "                        if (nbb_cells[i].get_text() == nbb_unformatted_code) {\n",
       "                             nbb_cells[i].set_text(nbb_formatted_code);\n",
       "                        }\n",
       "                        break;\n",
       "                    }\n",
       "                }\n",
       "            }, 500);\n",
       "            "
      ],
      "text/plain": [
       "<IPython.core.display.Javascript object>"
      ]
     },
     "metadata": {},
     "output_type": "display_data"
    }
   ],
   "source": [
    "0.5 / 0.5"
   ]
  },
  {
   "cell_type": "markdown",
   "id": "2b11840b",
   "metadata": {},
   "source": [
    "isso significa que em todas as vezes que se comprou burguer e onion também se comprou potato"
   ]
  },
  {
   "cell_type": "code",
   "execution_count": 18,
   "id": "2aca73f3",
   "metadata": {},
   "outputs": [
    {
     "data": {
      "text/html": [
       "<div>\n",
       "<style scoped>\n",
       "    .dataframe tbody tr th:only-of-type {\n",
       "        vertical-align: middle;\n",
       "    }\n",
       "\n",
       "    .dataframe tbody tr th {\n",
       "        vertical-align: top;\n",
       "    }\n",
       "\n",
       "    .dataframe thead th {\n",
       "        text-align: right;\n",
       "    }\n",
       "</style>\n",
       "<table border=\"1\" class=\"dataframe\">\n",
       "  <thead>\n",
       "    <tr style=\"text-align: right;\">\n",
       "      <th></th>\n",
       "      <th>0</th>\n",
       "      <th>1</th>\n",
       "      <th>2</th>\n",
       "      <th>3</th>\n",
       "      <th>4</th>\n",
       "    </tr>\n",
       "  </thead>\n",
       "  <tbody>\n",
       "    <tr>\n",
       "      <th>0</th>\n",
       "      <td>onion</td>\n",
       "      <td>potato</td>\n",
       "      <td>burguer</td>\n",
       "      <td>false</td>\n",
       "      <td>false</td>\n",
       "    </tr>\n",
       "    <tr>\n",
       "      <th>4</th>\n",
       "      <td>onion</td>\n",
       "      <td>potato</td>\n",
       "      <td>burguer</td>\n",
       "      <td>false</td>\n",
       "      <td>beer</td>\n",
       "    </tr>\n",
       "    <tr>\n",
       "      <th>5</th>\n",
       "      <td>onion</td>\n",
       "      <td>potato</td>\n",
       "      <td>burguer</td>\n",
       "      <td>milk</td>\n",
       "      <td>beer</td>\n",
       "    </tr>\n",
       "  </tbody>\n",
       "</table>\n",
       "</div>"
      ],
      "text/plain": [
       "       0       1        2      3      4\n",
       "0  onion  potato  burguer  false  false\n",
       "4  onion  potato  burguer  false   beer\n",
       "5  onion  potato  burguer   milk   beer"
      ]
     },
     "execution_count": 18,
     "metadata": {},
     "output_type": "execute_result"
    },
    {
     "data": {
      "application/javascript": [
       "\n",
       "            setTimeout(function() {\n",
       "                var nbb_cell_id = 18;\n",
       "                var nbb_unformatted_code = \"df_mining[(df_mining[0] == \\\"onion\\\") & (df_mining[2] == \\\"burguer\\\")]\";\n",
       "                var nbb_formatted_code = \"df_mining[(df_mining[0] == \\\"onion\\\") & (df_mining[2] == \\\"burguer\\\")]\";\n",
       "                var nbb_cells = Jupyter.notebook.get_cells();\n",
       "                for (var i = 0; i < nbb_cells.length; ++i) {\n",
       "                    if (nbb_cells[i].input_prompt_number == nbb_cell_id) {\n",
       "                        if (nbb_cells[i].get_text() == nbb_unformatted_code) {\n",
       "                             nbb_cells[i].set_text(nbb_formatted_code);\n",
       "                        }\n",
       "                        break;\n",
       "                    }\n",
       "                }\n",
       "            }, 500);\n",
       "            "
      ],
      "text/plain": [
       "<IPython.core.display.Javascript object>"
      ]
     },
     "metadata": {},
     "output_type": "display_data"
    }
   ],
   "source": [
    "df_mining[(df_mining[0] == \"onion\") & (df_mining[2] == \"burguer\")]"
   ]
  },
  {
   "cell_type": "markdown",
   "id": "12619ef8",
   "metadata": {},
   "source": [
    "probabilidade de comprar potato, dado que comprou burguer and onion"
   ]
  },
  {
   "cell_type": "code",
   "execution_count": 19,
   "id": "b805c389",
   "metadata": {},
   "outputs": [
    {
     "data": {
      "text/plain": [
       "0.6024096385542169"
      ]
     },
     "execution_count": 19,
     "metadata": {},
     "output_type": "execute_result"
    },
    {
     "data": {
      "application/javascript": [
       "\n",
       "            setTimeout(function() {\n",
       "                var nbb_cell_id = 19;\n",
       "                var nbb_unformatted_code = \"0.5 / 0.83\";\n",
       "                var nbb_formatted_code = \"0.5 / 0.83\";\n",
       "                var nbb_cells = Jupyter.notebook.get_cells();\n",
       "                for (var i = 0; i < nbb_cells.length; ++i) {\n",
       "                    if (nbb_cells[i].input_prompt_number == nbb_cell_id) {\n",
       "                        if (nbb_cells[i].get_text() == nbb_unformatted_code) {\n",
       "                             nbb_cells[i].set_text(nbb_formatted_code);\n",
       "                        }\n",
       "                        break;\n",
       "                    }\n",
       "                }\n",
       "            }, 500);\n",
       "            "
      ],
      "text/plain": [
       "<IPython.core.display.Javascript object>"
      ]
     },
     "metadata": {},
     "output_type": "display_data"
    }
   ],
   "source": [
    "0.5 / 0.83"
   ]
  },
  {
   "cell_type": "code",
   "execution_count": 20,
   "id": "155d2ca7",
   "metadata": {},
   "outputs": [
    {
     "data": {
      "text/html": [
       "<div>\n",
       "<style scoped>\n",
       "    .dataframe tbody tr th:only-of-type {\n",
       "        vertical-align: middle;\n",
       "    }\n",
       "\n",
       "    .dataframe tbody tr th {\n",
       "        vertical-align: top;\n",
       "    }\n",
       "\n",
       "    .dataframe thead th {\n",
       "        text-align: right;\n",
       "    }\n",
       "</style>\n",
       "<table border=\"1\" class=\"dataframe\">\n",
       "  <thead>\n",
       "    <tr style=\"text-align: right;\">\n",
       "      <th></th>\n",
       "      <th>0</th>\n",
       "      <th>1</th>\n",
       "      <th>2</th>\n",
       "      <th>3</th>\n",
       "      <th>4</th>\n",
       "    </tr>\n",
       "  </thead>\n",
       "  <tbody>\n",
       "    <tr>\n",
       "      <th>0</th>\n",
       "      <td>onion</td>\n",
       "      <td>potato</td>\n",
       "      <td>burguer</td>\n",
       "      <td>false</td>\n",
       "      <td>false</td>\n",
       "    </tr>\n",
       "    <tr>\n",
       "      <th>1</th>\n",
       "      <td>false</td>\n",
       "      <td>potato</td>\n",
       "      <td>burguer</td>\n",
       "      <td>milk</td>\n",
       "      <td>false</td>\n",
       "    </tr>\n",
       "    <tr>\n",
       "      <th>3</th>\n",
       "      <td>onion</td>\n",
       "      <td>potato</td>\n",
       "      <td>false</td>\n",
       "      <td>milk</td>\n",
       "      <td>false</td>\n",
       "    </tr>\n",
       "    <tr>\n",
       "      <th>4</th>\n",
       "      <td>onion</td>\n",
       "      <td>potato</td>\n",
       "      <td>burguer</td>\n",
       "      <td>false</td>\n",
       "      <td>beer</td>\n",
       "    </tr>\n",
       "    <tr>\n",
       "      <th>5</th>\n",
       "      <td>onion</td>\n",
       "      <td>potato</td>\n",
       "      <td>burguer</td>\n",
       "      <td>milk</td>\n",
       "      <td>beer</td>\n",
       "    </tr>\n",
       "  </tbody>\n",
       "</table>\n",
       "</div>"
      ],
      "text/plain": [
       "       0       1        2      3      4\n",
       "0  onion  potato  burguer  false  false\n",
       "1  false  potato  burguer   milk  false\n",
       "3  onion  potato    false   milk  false\n",
       "4  onion  potato  burguer  false   beer\n",
       "5  onion  potato  burguer   milk   beer"
      ]
     },
     "execution_count": 20,
     "metadata": {},
     "output_type": "execute_result"
    },
    {
     "data": {
      "application/javascript": [
       "\n",
       "            setTimeout(function() {\n",
       "                var nbb_cell_id = 20;\n",
       "                var nbb_unformatted_code = \"df_mining[(df_mining[1] == \\\"potato\\\")]\";\n",
       "                var nbb_formatted_code = \"df_mining[(df_mining[1] == \\\"potato\\\")]\";\n",
       "                var nbb_cells = Jupyter.notebook.get_cells();\n",
       "                for (var i = 0; i < nbb_cells.length; ++i) {\n",
       "                    if (nbb_cells[i].input_prompt_number == nbb_cell_id) {\n",
       "                        if (nbb_cells[i].get_text() == nbb_unformatted_code) {\n",
       "                             nbb_cells[i].set_text(nbb_formatted_code);\n",
       "                        }\n",
       "                        break;\n",
       "                    }\n",
       "                }\n",
       "            }, 500);\n",
       "            "
      ],
      "text/plain": [
       "<IPython.core.display.Javascript object>"
      ]
     },
     "metadata": {},
     "output_type": "display_data"
    }
   ],
   "source": [
    "df_mining[(df_mining[1] == \"potato\")]"
   ]
  },
  {
   "cell_type": "code",
   "execution_count": 21,
   "id": "57cb23b0",
   "metadata": {},
   "outputs": [
    {
     "data": {
      "text/plain": [
       "0.6"
      ]
     },
     "execution_count": 21,
     "metadata": {},
     "output_type": "execute_result"
    },
    {
     "data": {
      "application/javascript": [
       "\n",
       "            setTimeout(function() {\n",
       "                var nbb_cell_id = 21;\n",
       "                var nbb_unformatted_code = \"3 / 5\";\n",
       "                var nbb_formatted_code = \"3 / 5\";\n",
       "                var nbb_cells = Jupyter.notebook.get_cells();\n",
       "                for (var i = 0; i < nbb_cells.length; ++i) {\n",
       "                    if (nbb_cells[i].input_prompt_number == nbb_cell_id) {\n",
       "                        if (nbb_cells[i].get_text() == nbb_unformatted_code) {\n",
       "                             nbb_cells[i].set_text(nbb_formatted_code);\n",
       "                        }\n",
       "                        break;\n",
       "                    }\n",
       "                }\n",
       "            }, 500);\n",
       "            "
      ],
      "text/plain": [
       "<IPython.core.display.Javascript object>"
      ]
     },
     "metadata": {},
     "output_type": "display_data"
    }
   ],
   "source": [
    "3 / 5"
   ]
  },
  {
   "cell_type": "markdown",
   "id": "e0c13fa2",
   "metadata": {},
   "source": [
    "# lift"
   ]
  },
  {
   "cell_type": "markdown",
   "id": "7605f47c",
   "metadata": {},
   "source": [
    "Esta medida calcula também a possibilidade de um item ser comprado em relação a outro item. Porém, esta medida considera a popularidade de ambos os itens."
   ]
  },
  {
   "cell_type": "markdown",
   "id": "763a1afb",
   "metadata": {},
   "source": [
    "lift de comprar  burguer dado que comprou potato"
   ]
  },
  {
   "cell_type": "code",
   "execution_count": 22,
   "id": "bbd21edb",
   "metadata": {},
   "outputs": [
    {
     "data": {
      "text/plain": [
       "1.199999868000253"
      ]
     },
     "execution_count": 22,
     "metadata": {},
     "output_type": "execute_result"
    },
    {
     "data": {
      "application/javascript": [
       "\n",
       "            setTimeout(function() {\n",
       "                var nbb_cell_id = 22;\n",
       "                var nbb_unformatted_code = \"0.66666666 / (0.833333 * 0.666667)\";\n",
       "                var nbb_formatted_code = \"0.66666666 / (0.833333 * 0.666667)\";\n",
       "                var nbb_cells = Jupyter.notebook.get_cells();\n",
       "                for (var i = 0; i < nbb_cells.length; ++i) {\n",
       "                    if (nbb_cells[i].input_prompt_number == nbb_cell_id) {\n",
       "                        if (nbb_cells[i].get_text() == nbb_unformatted_code) {\n",
       "                             nbb_cells[i].set_text(nbb_formatted_code);\n",
       "                        }\n",
       "                        break;\n",
       "                    }\n",
       "                }\n",
       "            }, 500);\n",
       "            "
      ],
      "text/plain": [
       "<IPython.core.display.Javascript object>"
      ]
     },
     "metadata": {},
     "output_type": "display_data"
    }
   ],
   "source": [
    "0.66666666 / (0.833333 * 0.666667)"
   ]
  },
  {
   "cell_type": "code",
   "execution_count": null,
   "id": "f99e8635",
   "metadata": {},
   "outputs": [],
   "source": []
  },
  {
   "cell_type": "code",
   "execution_count": null,
   "id": "d27e80e4",
   "metadata": {},
   "outputs": [],
   "source": []
  }
 ],
 "metadata": {
  "kernelspec": {
   "display_name": "conda_tensorflow2_p36",
   "language": "python",
   "name": "conda_tensorflow2_p36"
  },
  "language_info": {
   "codemirror_mode": {
    "name": "ipython",
    "version": 3
   },
   "file_extension": ".py",
   "mimetype": "text/x-python",
   "name": "python",
   "nbconvert_exporter": "python",
   "pygments_lexer": "ipython3",
   "version": "3.6.13"
  }
 },
 "nbformat": 4,
 "nbformat_minor": 5
}
