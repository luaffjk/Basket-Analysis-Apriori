{
 "cells": [
  {
   "cell_type": "code",
   "execution_count": 1,
   "id": "6d475313",
   "metadata": {},
   "outputs": [
    {
     "data": {
      "application/javascript": [
       "\n",
       "            setTimeout(function() {\n",
       "                var nbb_cell_id = 1;\n",
       "                var nbb_unformatted_code = \"from google.cloud import bigquery\\nfrom datetime import datetime, timedelta\\n\\nimport os\\nimport pandas as pd\\nimport matplotlib.pyplot as plt\\nimport numpy as np\\nimport json\\nfrom datetime import datetime\\nimport datetime\\nfrom tqdm import tqdm\\nfrom matplotlib.patches import Rectangle\\nimport warnings\\n\\nwarnings.filterwarnings(\\\"ignore\\\")\\n\\n%load_ext google.cloud.bigquery\\n%load_ext nb_black\";\n",
       "                var nbb_formatted_code = \"from google.cloud import bigquery\\nfrom datetime import datetime, timedelta\\n\\nimport os\\nimport pandas as pd\\nimport matplotlib.pyplot as plt\\nimport numpy as np\\nimport json\\nfrom datetime import datetime\\nimport datetime\\nfrom tqdm import tqdm\\nfrom matplotlib.patches import Rectangle\\nimport warnings\\n\\nwarnings.filterwarnings(\\\"ignore\\\")\\n\\n%load_ext google.cloud.bigquery\\n%load_ext nb_black\";\n",
       "                var nbb_cells = Jupyter.notebook.get_cells();\n",
       "                for (var i = 0; i < nbb_cells.length; ++i) {\n",
       "                    if (nbb_cells[i].input_prompt_number == nbb_cell_id) {\n",
       "                        if (nbb_cells[i].get_text() == nbb_unformatted_code) {\n",
       "                             nbb_cells[i].set_text(nbb_formatted_code);\n",
       "                        }\n",
       "                        break;\n",
       "                    }\n",
       "                }\n",
       "            }, 500);\n",
       "            "
      ],
      "text/plain": [
       "<IPython.core.display.Javascript object>"
      ]
     },
     "metadata": {},
     "output_type": "display_data"
    }
   ],
   "source": [
    "from google.cloud import bigquery\n",
    "from datetime import datetime, timedelta\n",
    "\n",
    "import os\n",
    "import pandas as pd\n",
    "import matplotlib.pyplot as plt\n",
    "import numpy as np\n",
    "import json\n",
    "from datetime import datetime\n",
    "import datetime\n",
    "from tqdm import tqdm\n",
    "from matplotlib.patches import Rectangle\n",
    "import warnings\n",
    "\n",
    "warnings.filterwarnings(\"ignore\")\n",
    "\n",
    "%load_ext google.cloud.bigquery\n",
    "%load_ext nb_black"
   ]
  },
  {
   "cell_type": "code",
   "execution_count": 2,
   "id": "643bb243",
   "metadata": {},
   "outputs": [
    {
     "data": {
      "application/javascript": [
       "\n",
       "            setTimeout(function() {\n",
       "                var nbb_cell_id = 2;\n",
       "                var nbb_unformatted_code = \"from scipy.special import comb\\nfrom itertools import combinations, permutations\";\n",
       "                var nbb_formatted_code = \"from scipy.special import comb\\nfrom itertools import combinations, permutations\";\n",
       "                var nbb_cells = Jupyter.notebook.get_cells();\n",
       "                for (var i = 0; i < nbb_cells.length; ++i) {\n",
       "                    if (nbb_cells[i].input_prompt_number == nbb_cell_id) {\n",
       "                        if (nbb_cells[i].get_text() == nbb_unformatted_code) {\n",
       "                             nbb_cells[i].set_text(nbb_formatted_code);\n",
       "                        }\n",
       "                        break;\n",
       "                    }\n",
       "                }\n",
       "            }, 500);\n",
       "            "
      ],
      "text/plain": [
       "<IPython.core.display.Javascript object>"
      ]
     },
     "metadata": {},
     "output_type": "display_data"
    }
   ],
   "source": [
    "from scipy.special import comb\n",
    "from itertools import combinations, permutations\n"
   ]
  },
  {
   "cell_type": "markdown",
   "id": "e6395080",
   "metadata": {},
   "source": [
    "Referência: https://www.computersciencemaster.com.br/como-funciona-o-algoritmo-apriori/"
   ]
  },
  {
   "cell_type": "code",
   "execution_count": 3,
   "id": "c078c41d",
   "metadata": {},
   "outputs": [
    {
     "data": {
      "application/javascript": [
       "\n",
       "            setTimeout(function() {\n",
       "                var nbb_cell_id = 3;\n",
       "                var nbb_unformatted_code = \"df_mining = pd.DataFrame(\\n    [\\n        [\\\"onion\\\", \\\"potato\\\", \\\"burguer\\\", \\\"false\\\", \\\"false\\\"],\\n        [\\\"false\\\", \\\"potato\\\", \\\"burguer\\\", \\\"milk\\\", \\\"false\\\"],\\n        [\\\"false\\\", \\\"false\\\", \\\"false\\\", \\\"milk\\\", \\\"beer\\\"],\\n        [\\\"onion\\\", \\\"potato\\\", \\\"false\\\", \\\"milk\\\", \\\"false\\\"],\\n        [\\\"onion\\\", \\\"potato\\\", \\\"burguer\\\", \\\"false\\\", \\\"beer\\\"],\\n        [\\\"onion\\\", \\\"potato\\\", \\\"burguer\\\", \\\"milk\\\", \\\"beer\\\"],\\n    ]\\n)\";\n",
       "                var nbb_formatted_code = \"df_mining = pd.DataFrame(\\n    [\\n        [\\\"onion\\\", \\\"potato\\\", \\\"burguer\\\", \\\"false\\\", \\\"false\\\"],\\n        [\\\"false\\\", \\\"potato\\\", \\\"burguer\\\", \\\"milk\\\", \\\"false\\\"],\\n        [\\\"false\\\", \\\"false\\\", \\\"false\\\", \\\"milk\\\", \\\"beer\\\"],\\n        [\\\"onion\\\", \\\"potato\\\", \\\"false\\\", \\\"milk\\\", \\\"false\\\"],\\n        [\\\"onion\\\", \\\"potato\\\", \\\"burguer\\\", \\\"false\\\", \\\"beer\\\"],\\n        [\\\"onion\\\", \\\"potato\\\", \\\"burguer\\\", \\\"milk\\\", \\\"beer\\\"],\\n    ]\\n)\";\n",
       "                var nbb_cells = Jupyter.notebook.get_cells();\n",
       "                for (var i = 0; i < nbb_cells.length; ++i) {\n",
       "                    if (nbb_cells[i].input_prompt_number == nbb_cell_id) {\n",
       "                        if (nbb_cells[i].get_text() == nbb_unformatted_code) {\n",
       "                             nbb_cells[i].set_text(nbb_formatted_code);\n",
       "                        }\n",
       "                        break;\n",
       "                    }\n",
       "                }\n",
       "            }, 500);\n",
       "            "
      ],
      "text/plain": [
       "<IPython.core.display.Javascript object>"
      ]
     },
     "metadata": {},
     "output_type": "display_data"
    }
   ],
   "source": [
    "df_mining = pd.DataFrame(\n",
    "    [\n",
    "        [\"onion\", \"potato\", \"burguer\", \"false\", \"false\"],\n",
    "        [\"false\", \"potato\", \"burguer\", \"milk\", \"false\"],\n",
    "        [\"false\", \"false\", \"false\", \"milk\", \"beer\"],\n",
    "        [\"onion\", \"potato\", \"false\", \"milk\", \"false\"],\n",
    "        [\"onion\", \"potato\", \"burguer\", \"false\", \"beer\"],\n",
    "        [\"onion\", \"potato\", \"burguer\", \"milk\", \"beer\"],\n",
    "    ]\n",
    ")"
   ]
  },
  {
   "cell_type": "code",
   "execution_count": 4,
   "id": "b3df7343",
   "metadata": {},
   "outputs": [
    {
     "data": {
      "text/html": [
       "<div>\n",
       "<style scoped>\n",
       "    .dataframe tbody tr th:only-of-type {\n",
       "        vertical-align: middle;\n",
       "    }\n",
       "\n",
       "    .dataframe tbody tr th {\n",
       "        vertical-align: top;\n",
       "    }\n",
       "\n",
       "    .dataframe thead th {\n",
       "        text-align: right;\n",
       "    }\n",
       "</style>\n",
       "<table border=\"1\" class=\"dataframe\">\n",
       "  <thead>\n",
       "    <tr style=\"text-align: right;\">\n",
       "      <th></th>\n",
       "      <th>product</th>\n",
       "      <th>frequency</th>\n",
       "    </tr>\n",
       "  </thead>\n",
       "  <tbody>\n",
       "    <tr>\n",
       "      <th>1</th>\n",
       "      <td>potato</td>\n",
       "      <td>5</td>\n",
       "    </tr>\n",
       "    <tr>\n",
       "      <th>2</th>\n",
       "      <td>burguer</td>\n",
       "      <td>4</td>\n",
       "    </tr>\n",
       "    <tr>\n",
       "      <th>3</th>\n",
       "      <td>milk</td>\n",
       "      <td>4</td>\n",
       "    </tr>\n",
       "    <tr>\n",
       "      <th>4</th>\n",
       "      <td>onion</td>\n",
       "      <td>4</td>\n",
       "    </tr>\n",
       "    <tr>\n",
       "      <th>5</th>\n",
       "      <td>beer</td>\n",
       "      <td>3</td>\n",
       "    </tr>\n",
       "  </tbody>\n",
       "</table>\n",
       "</div>"
      ],
      "text/plain": [
       "   product  frequency\n",
       "1   potato          5\n",
       "2  burguer          4\n",
       "3     milk          4\n",
       "4    onion          4\n",
       "5     beer          3"
      ]
     },
     "execution_count": 4,
     "metadata": {},
     "output_type": "execute_result"
    },
    {
     "data": {
      "application/javascript": [
       "\n",
       "            setTimeout(function() {\n",
       "                var nbb_cell_id = 4;\n",
       "                var nbb_unformatted_code = \"minimum_support = 0.5\\ndf_values = df_mining.values.astype(str)\\nn_trans = len(df_mining)\\nn_minimum_support = minimum_support * n_trans\\n\\nindex, counts = np.unique(df_values, return_counts=True)\\ndf_item = pd.DataFrame(zip(index, counts), columns=[\\\"product\\\", \\\"frequency\\\"])\\ndf_item.sort_values(by=\\\"frequency\\\", ascending=False, inplace=True)\\ndf_item.reset_index(drop=True, inplace=True)\\ndf_item = df_item.query(\\\"product != 'false'\\\")\\ndf_item\";\n",
       "                var nbb_formatted_code = \"minimum_support = 0.5\\ndf_values = df_mining.values.astype(str)\\nn_trans = len(df_mining)\\nn_minimum_support = minimum_support * n_trans\\n\\nindex, counts = np.unique(df_values, return_counts=True)\\ndf_item = pd.DataFrame(zip(index, counts), columns=[\\\"product\\\", \\\"frequency\\\"])\\ndf_item.sort_values(by=\\\"frequency\\\", ascending=False, inplace=True)\\ndf_item.reset_index(drop=True, inplace=True)\\ndf_item = df_item.query(\\\"product != 'false'\\\")\\ndf_item\";\n",
       "                var nbb_cells = Jupyter.notebook.get_cells();\n",
       "                for (var i = 0; i < nbb_cells.length; ++i) {\n",
       "                    if (nbb_cells[i].input_prompt_number == nbb_cell_id) {\n",
       "                        if (nbb_cells[i].get_text() == nbb_unformatted_code) {\n",
       "                             nbb_cells[i].set_text(nbb_formatted_code);\n",
       "                        }\n",
       "                        break;\n",
       "                    }\n",
       "                }\n",
       "            }, 500);\n",
       "            "
      ],
      "text/plain": [
       "<IPython.core.display.Javascript object>"
      ]
     },
     "metadata": {},
     "output_type": "display_data"
    }
   ],
   "source": [
    "minimum_support = 0.5\n",
    "df_values = df_mining.values.astype(str)\n",
    "n_trans = len(df_mining)\n",
    "n_minimum_support = minimum_support * n_trans\n",
    "\n",
    "index, counts = np.unique(df_values, return_counts=True)\n",
    "df_item = pd.DataFrame(zip(index, counts), columns=[\"product\", \"frequency\"])\n",
    "df_item.sort_values(by=\"frequency\", ascending=False, inplace=True)\n",
    "df_item.reset_index(drop=True, inplace=True)\n",
    "df_item = df_item.query(\"product != 'false'\")\n",
    "df_item"
   ]
  },
  {
   "cell_type": "code",
   "execution_count": 5,
   "id": "3af91952",
   "metadata": {},
   "outputs": [
    {
     "data": {
      "text/html": [
       "<div>\n",
       "<style scoped>\n",
       "    .dataframe tbody tr th:only-of-type {\n",
       "        vertical-align: middle;\n",
       "    }\n",
       "\n",
       "    .dataframe tbody tr th {\n",
       "        vertical-align: top;\n",
       "    }\n",
       "\n",
       "    .dataframe thead th {\n",
       "        text-align: right;\n",
       "    }\n",
       "</style>\n",
       "<table border=\"1\" class=\"dataframe\">\n",
       "  <thead>\n",
       "    <tr style=\"text-align: right;\">\n",
       "      <th></th>\n",
       "      <th>product</th>\n",
       "      <th>frequency</th>\n",
       "      <th>supp</th>\n",
       "    </tr>\n",
       "  </thead>\n",
       "  <tbody>\n",
       "    <tr>\n",
       "      <th>1</th>\n",
       "      <td>potato</td>\n",
       "      <td>5</td>\n",
       "      <td>0.833333</td>\n",
       "    </tr>\n",
       "    <tr>\n",
       "      <th>2</th>\n",
       "      <td>burguer</td>\n",
       "      <td>4</td>\n",
       "      <td>0.666667</td>\n",
       "    </tr>\n",
       "    <tr>\n",
       "      <th>3</th>\n",
       "      <td>milk</td>\n",
       "      <td>4</td>\n",
       "      <td>0.666667</td>\n",
       "    </tr>\n",
       "    <tr>\n",
       "      <th>4</th>\n",
       "      <td>onion</td>\n",
       "      <td>4</td>\n",
       "      <td>0.666667</td>\n",
       "    </tr>\n",
       "  </tbody>\n",
       "</table>\n",
       "</div>"
      ],
      "text/plain": [
       "   product  frequency      supp\n",
       "1   potato          5  0.833333\n",
       "2  burguer          4  0.666667\n",
       "3     milk          4  0.666667\n",
       "4    onion          4  0.666667"
      ]
     },
     "execution_count": 5,
     "metadata": {},
     "output_type": "execute_result"
    },
    {
     "data": {
      "application/javascript": [
       "\n",
       "            setTimeout(function() {\n",
       "                var nbb_cell_id = 5;\n",
       "                var nbb_unformatted_code = \"n_minimum_support = minimum_support * n_trans\\ndf_item_frequent = df_item[df_item[\\\"frequency\\\"] > n_minimum_support]\\ndf_item_frequent[\\\"supp\\\"] = df_item_frequent[\\\"frequency\\\"] / n_trans\\ndf_item_frequent\";\n",
       "                var nbb_formatted_code = \"n_minimum_support = minimum_support * n_trans\\ndf_item_frequent = df_item[df_item[\\\"frequency\\\"] > n_minimum_support]\\ndf_item_frequent[\\\"supp\\\"] = df_item_frequent[\\\"frequency\\\"] / n_trans\\ndf_item_frequent\";\n",
       "                var nbb_cells = Jupyter.notebook.get_cells();\n",
       "                for (var i = 0; i < nbb_cells.length; ++i) {\n",
       "                    if (nbb_cells[i].input_prompt_number == nbb_cell_id) {\n",
       "                        if (nbb_cells[i].get_text() == nbb_unformatted_code) {\n",
       "                             nbb_cells[i].set_text(nbb_formatted_code);\n",
       "                        }\n",
       "                        break;\n",
       "                    }\n",
       "                }\n",
       "            }, 500);\n",
       "            "
      ],
      "text/plain": [
       "<IPython.core.display.Javascript object>"
      ]
     },
     "metadata": {},
     "output_type": "display_data"
    }
   ],
   "source": [
    "n_minimum_support = minimum_support * n_trans\n",
    "df_item_frequent = df_item[df_item[\"frequency\"] > n_minimum_support]\n",
    "df_item_frequent[\"supp\"] = df_item_frequent[\"frequency\"] / n_trans\n",
    "df_item_frequent"
   ]
  },
  {
   "cell_type": "code",
   "execution_count": 6,
   "id": "b7cc9fe5",
   "metadata": {
    "scrolled": true
   },
   "outputs": [
    {
     "name": "stderr",
     "output_type": "stream",
     "text": [
      "100%|██████████| 4/4 [00:00<00:00, 4513.64it/s]\n"
     ]
    },
    {
     "data": {
      "text/html": [
       "<div>\n",
       "<style scoped>\n",
       "    .dataframe tbody tr th:only-of-type {\n",
       "        vertical-align: middle;\n",
       "    }\n",
       "\n",
       "    .dataframe tbody tr th {\n",
       "        vertical-align: top;\n",
       "    }\n",
       "\n",
       "    .dataframe thead th {\n",
       "        text-align: right;\n",
       "    }\n",
       "</style>\n",
       "<table border=\"1\" class=\"dataframe\">\n",
       "  <thead>\n",
       "    <tr style=\"text-align: right;\">\n",
       "      <th></th>\n",
       "      <th>itemset</th>\n",
       "      <th>frequency</th>\n",
       "      <th>supp</th>\n",
       "    </tr>\n",
       "  </thead>\n",
       "  <tbody>\n",
       "    <tr>\n",
       "      <th>5</th>\n",
       "      <td>(potato,)</td>\n",
       "      <td>5</td>\n",
       "      <td>0.833333</td>\n",
       "    </tr>\n",
       "    <tr>\n",
       "      <th>1</th>\n",
       "      <td>(potato, burguer)</td>\n",
       "      <td>4</td>\n",
       "      <td>0.666667</td>\n",
       "    </tr>\n",
       "    <tr>\n",
       "      <th>3</th>\n",
       "      <td>(potato, onion)</td>\n",
       "      <td>4</td>\n",
       "      <td>0.666667</td>\n",
       "    </tr>\n",
       "    <tr>\n",
       "      <th>6</th>\n",
       "      <td>(burguer,)</td>\n",
       "      <td>4</td>\n",
       "      <td>0.666667</td>\n",
       "    </tr>\n",
       "    <tr>\n",
       "      <th>7</th>\n",
       "      <td>(milk,)</td>\n",
       "      <td>4</td>\n",
       "      <td>0.666667</td>\n",
       "    </tr>\n",
       "    <tr>\n",
       "      <th>8</th>\n",
       "      <td>(onion,)</td>\n",
       "      <td>4</td>\n",
       "      <td>0.666667</td>\n",
       "    </tr>\n",
       "    <tr>\n",
       "      <th>0</th>\n",
       "      <td>(potato, burguer, onion)</td>\n",
       "      <td>3</td>\n",
       "      <td>0.500000</td>\n",
       "    </tr>\n",
       "    <tr>\n",
       "      <th>2</th>\n",
       "      <td>(potato, milk)</td>\n",
       "      <td>3</td>\n",
       "      <td>0.500000</td>\n",
       "    </tr>\n",
       "    <tr>\n",
       "      <th>4</th>\n",
       "      <td>(burguer, onion)</td>\n",
       "      <td>3</td>\n",
       "      <td>0.500000</td>\n",
       "    </tr>\n",
       "  </tbody>\n",
       "</table>\n",
       "</div>"
      ],
      "text/plain": [
       "                    itemset  frequency      supp\n",
       "5                 (potato,)          5  0.833333\n",
       "1         (potato, burguer)          4  0.666667\n",
       "3           (potato, onion)          4  0.666667\n",
       "6                (burguer,)          4  0.666667\n",
       "7                   (milk,)          4  0.666667\n",
       "8                  (onion,)          4  0.666667\n",
       "0  (potato, burguer, onion)          3  0.500000\n",
       "2            (potato, milk)          3  0.500000\n",
       "4          (burguer, onion)          3  0.500000"
      ]
     },
     "execution_count": 6,
     "metadata": {},
     "output_type": "execute_result"
    },
    {
     "data": {
      "application/javascript": [
       "\n",
       "            setTimeout(function() {\n",
       "                var nbb_cell_id = 6;\n",
       "                var nbb_unformatted_code = \"itemset_frequency = []\\nfor i in tqdm(np.arange(len(df_item_frequent), 0, -1)):\\n    comb = list(combinations(df_item_frequent[\\\"product\\\"].values, i))\\n    for w in comb:\\n        count = 0\\n        for instancia in df_values:\\n            if all(elem in instancia for elem in w):\\n                count = count + 1\\n        if count >= n_minimum_support:\\n            itemset_frequency.append({\\\"itemset\\\": w, \\\"frequency\\\": count})\\ndf_itemset_frequency = pd.DataFrame(itemset_frequency)\\ndf_itemset_frequency.sort_values(by=\\\"frequency\\\", inplace=True, ascending=False)\\ndf_item_frequent.set_index(\\\"product\\\", inplace=True)\\ndf_itemset_frequency[\\\"supp\\\"] = df_itemset_frequency[\\\"frequency\\\"] / n_trans\\ndf_itemset_frequency\";\n",
       "                var nbb_formatted_code = \"itemset_frequency = []\\nfor i in tqdm(np.arange(len(df_item_frequent), 0, -1)):\\n    comb = list(combinations(df_item_frequent[\\\"product\\\"].values, i))\\n    for w in comb:\\n        count = 0\\n        for instancia in df_values:\\n            if all(elem in instancia for elem in w):\\n                count = count + 1\\n        if count >= n_minimum_support:\\n            itemset_frequency.append({\\\"itemset\\\": w, \\\"frequency\\\": count})\\ndf_itemset_frequency = pd.DataFrame(itemset_frequency)\\ndf_itemset_frequency.sort_values(by=\\\"frequency\\\", inplace=True, ascending=False)\\ndf_item_frequent.set_index(\\\"product\\\", inplace=True)\\ndf_itemset_frequency[\\\"supp\\\"] = df_itemset_frequency[\\\"frequency\\\"] / n_trans\\ndf_itemset_frequency\";\n",
       "                var nbb_cells = Jupyter.notebook.get_cells();\n",
       "                for (var i = 0; i < nbb_cells.length; ++i) {\n",
       "                    if (nbb_cells[i].input_prompt_number == nbb_cell_id) {\n",
       "                        if (nbb_cells[i].get_text() == nbb_unformatted_code) {\n",
       "                             nbb_cells[i].set_text(nbb_formatted_code);\n",
       "                        }\n",
       "                        break;\n",
       "                    }\n",
       "                }\n",
       "            }, 500);\n",
       "            "
      ],
      "text/plain": [
       "<IPython.core.display.Javascript object>"
      ]
     },
     "metadata": {},
     "output_type": "display_data"
    }
   ],
   "source": [
    "itemset_frequency = []\n",
    "for i in tqdm(np.arange(len(df_item_frequent), 0, -1)):\n",
    "    comb = list(combinations(df_item_frequent[\"product\"].values, i))\n",
    "    for w in comb:\n",
    "        count = 0\n",
    "        for instancia in df_values:\n",
    "            if all(elem in instancia for elem in w):\n",
    "                count = count + 1\n",
    "        if count >= n_minimum_support:\n",
    "            itemset_frequency.append({\"itemset\": w, \"frequency\": count})\n",
    "df_itemset_frequency = pd.DataFrame(itemset_frequency)\n",
    "df_itemset_frequency.sort_values(by=\"frequency\", inplace=True, ascending=False)\n",
    "df_item_frequent.set_index(\"product\", inplace=True)\n",
    "df_itemset_frequency[\"supp\"] = df_itemset_frequency[\"frequency\"] / n_trans\n",
    "df_itemset_frequency"
   ]
  },
  {
   "cell_type": "markdown",
   "id": "b7aa3b4c",
   "metadata": {},
   "source": [
    "# Support"
   ]
  },
  {
   "cell_type": "markdown",
   "id": "0f5a3dfb",
   "metadata": {},
   "source": [
    "The support of an item set is the proportion of transactions in the database over the total number of transactions."
   ]
  },
  {
   "cell_type": "code",
   "execution_count": 8,
   "id": "815469f7",
   "metadata": {},
   "outputs": [
    {
     "data": {
      "application/javascript": [
       "\n",
       "            setTimeout(function() {\n",
       "                var nbb_cell_id = 8;\n",
       "                var nbb_unformatted_code = \"df_itemset_frequency[\\\"supp\\\"] = df_itemset_frequency[\\\"frequency\\\"] / n_trans\";\n",
       "                var nbb_formatted_code = \"df_itemset_frequency[\\\"supp\\\"] = df_itemset_frequency[\\\"frequency\\\"] / n_trans\";\n",
       "                var nbb_cells = Jupyter.notebook.get_cells();\n",
       "                for (var i = 0; i < nbb_cells.length; ++i) {\n",
       "                    if (nbb_cells[i].input_prompt_number == nbb_cell_id) {\n",
       "                        if (nbb_cells[i].get_text() == nbb_unformatted_code) {\n",
       "                             nbb_cells[i].set_text(nbb_formatted_code);\n",
       "                        }\n",
       "                        break;\n",
       "                    }\n",
       "                }\n",
       "            }, 500);\n",
       "            "
      ],
      "text/plain": [
       "<IPython.core.display.Javascript object>"
      ]
     },
     "metadata": {},
     "output_type": "display_data"
    }
   ],
   "source": [
    "df_itemset_frequency[\"supp\"] = df_itemset_frequency[\"frequency\"] / n_trans"
   ]
  },
  {
   "cell_type": "code",
   "execution_count": 9,
   "id": "a0196083",
   "metadata": {},
   "outputs": [
    {
     "data": {
      "text/html": [
       "<div>\n",
       "<style scoped>\n",
       "    .dataframe tbody tr th:only-of-type {\n",
       "        vertical-align: middle;\n",
       "    }\n",
       "\n",
       "    .dataframe tbody tr th {\n",
       "        vertical-align: top;\n",
       "    }\n",
       "\n",
       "    .dataframe thead th {\n",
       "        text-align: right;\n",
       "    }\n",
       "</style>\n",
       "<table border=\"1\" class=\"dataframe\">\n",
       "  <thead>\n",
       "    <tr style=\"text-align: right;\">\n",
       "      <th></th>\n",
       "      <th>itemset</th>\n",
       "      <th>frequency</th>\n",
       "      <th>supp</th>\n",
       "    </tr>\n",
       "  </thead>\n",
       "  <tbody>\n",
       "    <tr>\n",
       "      <th>5</th>\n",
       "      <td>(potato,)</td>\n",
       "      <td>5</td>\n",
       "      <td>0.833333</td>\n",
       "    </tr>\n",
       "    <tr>\n",
       "      <th>1</th>\n",
       "      <td>(potato, burguer)</td>\n",
       "      <td>4</td>\n",
       "      <td>0.666667</td>\n",
       "    </tr>\n",
       "    <tr>\n",
       "      <th>3</th>\n",
       "      <td>(potato, onion)</td>\n",
       "      <td>4</td>\n",
       "      <td>0.666667</td>\n",
       "    </tr>\n",
       "    <tr>\n",
       "      <th>6</th>\n",
       "      <td>(burguer,)</td>\n",
       "      <td>4</td>\n",
       "      <td>0.666667</td>\n",
       "    </tr>\n",
       "    <tr>\n",
       "      <th>7</th>\n",
       "      <td>(milk,)</td>\n",
       "      <td>4</td>\n",
       "      <td>0.666667</td>\n",
       "    </tr>\n",
       "    <tr>\n",
       "      <th>8</th>\n",
       "      <td>(onion,)</td>\n",
       "      <td>4</td>\n",
       "      <td>0.666667</td>\n",
       "    </tr>\n",
       "    <tr>\n",
       "      <th>0</th>\n",
       "      <td>(potato, burguer, onion)</td>\n",
       "      <td>3</td>\n",
       "      <td>0.500000</td>\n",
       "    </tr>\n",
       "    <tr>\n",
       "      <th>2</th>\n",
       "      <td>(potato, milk)</td>\n",
       "      <td>3</td>\n",
       "      <td>0.500000</td>\n",
       "    </tr>\n",
       "    <tr>\n",
       "      <th>4</th>\n",
       "      <td>(burguer, onion)</td>\n",
       "      <td>3</td>\n",
       "      <td>0.500000</td>\n",
       "    </tr>\n",
       "  </tbody>\n",
       "</table>\n",
       "</div>"
      ],
      "text/plain": [
       "                    itemset  frequency      supp\n",
       "5                 (potato,)          5  0.833333\n",
       "1         (potato, burguer)          4  0.666667\n",
       "3           (potato, onion)          4  0.666667\n",
       "6                (burguer,)          4  0.666667\n",
       "7                   (milk,)          4  0.666667\n",
       "8                  (onion,)          4  0.666667\n",
       "0  (potato, burguer, onion)          3  0.500000\n",
       "2            (potato, milk)          3  0.500000\n",
       "4          (burguer, onion)          3  0.500000"
      ]
     },
     "execution_count": 9,
     "metadata": {},
     "output_type": "execute_result"
    },
    {
     "data": {
      "application/javascript": [
       "\n",
       "            setTimeout(function() {\n",
       "                var nbb_cell_id = 9;\n",
       "                var nbb_unformatted_code = \"df_itemset_frequency\";\n",
       "                var nbb_formatted_code = \"df_itemset_frequency\";\n",
       "                var nbb_cells = Jupyter.notebook.get_cells();\n",
       "                for (var i = 0; i < nbb_cells.length; ++i) {\n",
       "                    if (nbb_cells[i].input_prompt_number == nbb_cell_id) {\n",
       "                        if (nbb_cells[i].get_text() == nbb_unformatted_code) {\n",
       "                             nbb_cells[i].set_text(nbb_formatted_code);\n",
       "                        }\n",
       "                        break;\n",
       "                    }\n",
       "                }\n",
       "            }, 500);\n",
       "            "
      ],
      "text/plain": [
       "<IPython.core.display.Javascript object>"
      ]
     },
     "metadata": {},
     "output_type": "display_data"
    }
   ],
   "source": [
    "df_itemset_frequency"
   ]
  },
  {
   "cell_type": "code",
   "execution_count": 10,
   "id": "9cfbeeb3",
   "metadata": {},
   "outputs": [
    {
     "data": {
      "text/html": [
       "<div>\n",
       "<style scoped>\n",
       "    .dataframe tbody tr th:only-of-type {\n",
       "        vertical-align: middle;\n",
       "    }\n",
       "\n",
       "    .dataframe tbody tr th {\n",
       "        vertical-align: top;\n",
       "    }\n",
       "\n",
       "    .dataframe thead th {\n",
       "        text-align: right;\n",
       "    }\n",
       "</style>\n",
       "<table border=\"1\" class=\"dataframe\">\n",
       "  <thead>\n",
       "    <tr style=\"text-align: right;\">\n",
       "      <th></th>\n",
       "      <th>frequency</th>\n",
       "      <th>supp</th>\n",
       "    </tr>\n",
       "    <tr>\n",
       "      <th>product</th>\n",
       "      <th></th>\n",
       "      <th></th>\n",
       "    </tr>\n",
       "  </thead>\n",
       "  <tbody>\n",
       "    <tr>\n",
       "      <th>potato</th>\n",
       "      <td>5</td>\n",
       "      <td>0.833333</td>\n",
       "    </tr>\n",
       "    <tr>\n",
       "      <th>burguer</th>\n",
       "      <td>4</td>\n",
       "      <td>0.666667</td>\n",
       "    </tr>\n",
       "    <tr>\n",
       "      <th>milk</th>\n",
       "      <td>4</td>\n",
       "      <td>0.666667</td>\n",
       "    </tr>\n",
       "    <tr>\n",
       "      <th>onion</th>\n",
       "      <td>4</td>\n",
       "      <td>0.666667</td>\n",
       "    </tr>\n",
       "  </tbody>\n",
       "</table>\n",
       "</div>"
      ],
      "text/plain": [
       "         frequency      supp\n",
       "product                     \n",
       "potato           5  0.833333\n",
       "burguer          4  0.666667\n",
       "milk             4  0.666667\n",
       "onion            4  0.666667"
      ]
     },
     "execution_count": 10,
     "metadata": {},
     "output_type": "execute_result"
    },
    {
     "data": {
      "application/javascript": [
       "\n",
       "            setTimeout(function() {\n",
       "                var nbb_cell_id = 10;\n",
       "                var nbb_unformatted_code = \"df_item_frequent\";\n",
       "                var nbb_formatted_code = \"df_item_frequent\";\n",
       "                var nbb_cells = Jupyter.notebook.get_cells();\n",
       "                for (var i = 0; i < nbb_cells.length; ++i) {\n",
       "                    if (nbb_cells[i].input_prompt_number == nbb_cell_id) {\n",
       "                        if (nbb_cells[i].get_text() == nbb_unformatted_code) {\n",
       "                             nbb_cells[i].set_text(nbb_formatted_code);\n",
       "                        }\n",
       "                        break;\n",
       "                    }\n",
       "                }\n",
       "            }, 500);\n",
       "            "
      ],
      "text/plain": [
       "<IPython.core.display.Javascript object>"
      ]
     },
     "metadata": {},
     "output_type": "display_data"
    }
   ],
   "source": [
    "df_item_frequent"
   ]
  },
  {
   "cell_type": "markdown",
   "id": "33c291f2",
   "metadata": {},
   "source": [
    "# Confidence "
   ]
  },
  {
   "cell_type": "markdown",
   "id": "28a15c33",
   "metadata": {},
   "source": [
    "The confidence of a rule is the likelihood of purchasing item B when item A is purchased. "
   ]
  },
  {
   "cell_type": "markdown",
   "id": "c73dad7f",
   "metadata": {},
   "source": [
    "Example:"
   ]
  },
  {
   "cell_type": "markdown",
   "id": "ece001a7",
   "metadata": {},
   "source": [
    "Confidence of buying burger given that potato was bought"
   ]
  },
  {
   "cell_type": "code",
   "execution_count": 11,
   "id": "b9865937",
   "metadata": {},
   "outputs": [
    {
     "data": {
      "text/latex": [
       "\\begin{equation}\n",
       "Conf({burguer}=>{potato}) = \\frac{p({burguer}\\cap{potato})}{p({potato})}= \\frac{0.66}{0.83} = 79\\%\n",
       "\\end{equation}\n"
      ],
      "text/plain": [
       "<IPython.core.display.Latex object>"
      ]
     },
     "metadata": {},
     "output_type": "display_data"
    },
    {
     "data": {
      "application/javascript": [
       "\n",
       "            setTimeout(function() {\n",
       "                var nbb_cell_id = 11;\n",
       "                var nbb_unformatted_code = \"%%latex\\n\\\\begin{equation}\\nConf({burguer}=>{potato}) = \\\\frac{p({burguer}\\\\cap{potato})}{p({potato})}= \\\\frac{0.66}{0.83} = 79\\\\%\\n\\\\end{equation}\";\n",
       "                var nbb_formatted_code = \"%%latex\\n\\\\begin{equation}\\nConf({burguer}=>{potato}) = \\\\frac{p({burguer}\\\\cap{potato})}{p({potato})}= \\\\frac{0.66}{0.83} = 79\\\\%\\n\\\\end{equation}\";\n",
       "                var nbb_cells = Jupyter.notebook.get_cells();\n",
       "                for (var i = 0; i < nbb_cells.length; ++i) {\n",
       "                    if (nbb_cells[i].input_prompt_number == nbb_cell_id) {\n",
       "                        if (nbb_cells[i].get_text() == nbb_unformatted_code) {\n",
       "                             nbb_cells[i].set_text(nbb_formatted_code);\n",
       "                        }\n",
       "                        break;\n",
       "                    }\n",
       "                }\n",
       "            }, 500);\n",
       "            "
      ],
      "text/plain": [
       "<IPython.core.display.Javascript object>"
      ]
     },
     "metadata": {},
     "output_type": "display_data"
    }
   ],
   "source": [
    "%%latex\n",
    "\\begin{equation}\n",
    "Conf({burguer}=>{potato}) = \\frac{p({burguer}\\cap{potato})}{p({potato})}= \\frac{0.66}{0.83} = 79\\%\n",
    "\\end{equation}"
   ]
  },
  {
   "cell_type": "markdown",
   "id": "43a6aa6f",
   "metadata": {},
   "source": [
    "That is, 80% of the people who buy potatoes also buy burgers."
   ]
  },
  {
   "cell_type": "markdown",
   "id": "75dcaddd",
   "metadata": {},
   "source": [
    "# Lift"
   ]
  },
  {
   "cell_type": "markdown",
   "id": "f0939f65",
   "metadata": {},
   "source": [
    "Lift also calculates the likelihood of purchasing an item relative to another object. However, this measure considers the popularity of both."
   ]
  },
  {
   "cell_type": "markdown",
   "id": "5be0c689",
   "metadata": {},
   "source": [
    "Example:"
   ]
  },
  {
   "cell_type": "markdown",
   "id": "b7f403b4",
   "metadata": {},
   "source": [
    "Lift of buying burger given that potato was bought"
   ]
  },
  {
   "cell_type": "code",
   "execution_count": 12,
   "id": "d71c9915",
   "metadata": {},
   "outputs": [
    {
     "data": {
      "text/latex": [
       "\\begin{equation}\n",
       "Lift({burguer}=>{potato}) = \\frac{p({burguer}\\cap{potato})}{p({burguer})*p({potato})}= \\frac{0.66}{0.66*0.83} = 1.19\n",
       "\\end{equation}\n"
      ],
      "text/plain": [
       "<IPython.core.display.Latex object>"
      ]
     },
     "metadata": {},
     "output_type": "display_data"
    },
    {
     "data": {
      "application/javascript": [
       "\n",
       "            setTimeout(function() {\n",
       "                var nbb_cell_id = 12;\n",
       "                var nbb_unformatted_code = \"%%latex\\n\\\\begin{equation}\\nLift({burguer}=>{potato}) = \\\\frac{p({burguer}\\\\cap{potato})}{p({burguer})*p({potato})}= \\\\frac{0.66}{0.66*0.83} = 1.19\\n\\\\end{equation}\";\n",
       "                var nbb_formatted_code = \"%%latex\\n\\\\begin{equation}\\nLift({burguer}=>{potato}) = \\\\frac{p({burguer}\\\\cap{potato})}{p({burguer})*p({potato})}= \\\\frac{0.66}{0.66*0.83} = 1.19\\n\\\\end{equation}\";\n",
       "                var nbb_cells = Jupyter.notebook.get_cells();\n",
       "                for (var i = 0; i < nbb_cells.length; ++i) {\n",
       "                    if (nbb_cells[i].input_prompt_number == nbb_cell_id) {\n",
       "                        if (nbb_cells[i].get_text() == nbb_unformatted_code) {\n",
       "                             nbb_cells[i].set_text(nbb_formatted_code);\n",
       "                        }\n",
       "                        break;\n",
       "                    }\n",
       "                }\n",
       "            }, 500);\n",
       "            "
      ],
      "text/plain": [
       "<IPython.core.display.Javascript object>"
      ]
     },
     "metadata": {},
     "output_type": "display_data"
    }
   ],
   "source": [
    "%%latex\n",
    "\\begin{equation}\n",
    "Lift({burguer}=>{potato}) = \\frac{p({burguer}\\cap{potato})}{p({burguer})*p({potato})}= \\frac{0.66}{0.66*0.83} = 1.19\n",
    "\\end{equation}"
   ]
  },
  {
   "cell_type": "markdown",
   "id": "75b9e48c",
   "metadata": {},
   "source": [
    "Based on this value, we check:\n",
    "\n",
    "If Lift(X=>Y) > 1, then set Y is likely to be bought when X is bought.\n",
    "\n",
    "\n",
    "If Lift(X=>Y) ≤1, then Y is NOT likely to be bought if X is bought."
   ]
  },
  {
   "cell_type": "code",
   "execution_count": 13,
   "id": "2077a299",
   "metadata": {
    "scrolled": false
   },
   "outputs": [
    {
     "name": "stderr",
     "output_type": "stream",
     "text": [
      "100%|██████████| 9/9 [00:00<00:00, 311.29it/s]\n"
     ]
    },
    {
     "data": {
      "text/html": [
       "<div>\n",
       "<style scoped>\n",
       "    .dataframe tbody tr th:only-of-type {\n",
       "        vertical-align: middle;\n",
       "    }\n",
       "\n",
       "    .dataframe tbody tr th {\n",
       "        vertical-align: top;\n",
       "    }\n",
       "\n",
       "    .dataframe thead th {\n",
       "        text-align: right;\n",
       "    }\n",
       "</style>\n",
       "<table border=\"1\" class=\"dataframe\">\n",
       "  <thead>\n",
       "    <tr style=\"text-align: right;\">\n",
       "      <th></th>\n",
       "      <th>B</th>\n",
       "      <th>A</th>\n",
       "      <th>confidence</th>\n",
       "      <th>lift</th>\n",
       "    </tr>\n",
       "  </thead>\n",
       "  <tbody>\n",
       "    <tr>\n",
       "      <th>0</th>\n",
       "      <td>{burguer}</td>\n",
       "      <td>(potato,)</td>\n",
       "      <td>80.0</td>\n",
       "      <td>1.20</td>\n",
       "    </tr>\n",
       "    <tr>\n",
       "      <th>1</th>\n",
       "      <td>{onion}</td>\n",
       "      <td>(potato,)</td>\n",
       "      <td>80.0</td>\n",
       "      <td>1.20</td>\n",
       "    </tr>\n",
       "    <tr>\n",
       "      <th>2</th>\n",
       "      <td>{onion, burguer}</td>\n",
       "      <td>(potato,)</td>\n",
       "      <td>60.0</td>\n",
       "      <td>1.35</td>\n",
       "    </tr>\n",
       "    <tr>\n",
       "      <th>3</th>\n",
       "      <td>{milk}</td>\n",
       "      <td>(potato,)</td>\n",
       "      <td>60.0</td>\n",
       "      <td>0.90</td>\n",
       "    </tr>\n",
       "    <tr>\n",
       "      <th>4</th>\n",
       "      <td>{onion}</td>\n",
       "      <td>(potato, burguer)</td>\n",
       "      <td>75.0</td>\n",
       "      <td>1.35</td>\n",
       "    </tr>\n",
       "    <tr>\n",
       "      <th>5</th>\n",
       "      <td>{burguer}</td>\n",
       "      <td>(potato, onion)</td>\n",
       "      <td>75.0</td>\n",
       "      <td>1.35</td>\n",
       "    </tr>\n",
       "    <tr>\n",
       "      <th>6</th>\n",
       "      <td>{potato}</td>\n",
       "      <td>(burguer,)</td>\n",
       "      <td>100.0</td>\n",
       "      <td>1.20</td>\n",
       "    </tr>\n",
       "    <tr>\n",
       "      <th>7</th>\n",
       "      <td>{onion, potato}</td>\n",
       "      <td>(burguer,)</td>\n",
       "      <td>75.0</td>\n",
       "      <td>1.35</td>\n",
       "    </tr>\n",
       "    <tr>\n",
       "      <th>8</th>\n",
       "      <td>{onion}</td>\n",
       "      <td>(burguer,)</td>\n",
       "      <td>75.0</td>\n",
       "      <td>1.12</td>\n",
       "    </tr>\n",
       "    <tr>\n",
       "      <th>9</th>\n",
       "      <td>{potato}</td>\n",
       "      <td>(milk,)</td>\n",
       "      <td>75.0</td>\n",
       "      <td>0.90</td>\n",
       "    </tr>\n",
       "    <tr>\n",
       "      <th>10</th>\n",
       "      <td>{potato}</td>\n",
       "      <td>(onion,)</td>\n",
       "      <td>100.0</td>\n",
       "      <td>1.20</td>\n",
       "    </tr>\n",
       "    <tr>\n",
       "      <th>11</th>\n",
       "      <td>{burguer, potato}</td>\n",
       "      <td>(onion,)</td>\n",
       "      <td>75.0</td>\n",
       "      <td>1.35</td>\n",
       "    </tr>\n",
       "    <tr>\n",
       "      <th>12</th>\n",
       "      <td>{burguer}</td>\n",
       "      <td>(onion,)</td>\n",
       "      <td>75.0</td>\n",
       "      <td>1.12</td>\n",
       "    </tr>\n",
       "    <tr>\n",
       "      <th>13</th>\n",
       "      <td>{potato}</td>\n",
       "      <td>(burguer, onion)</td>\n",
       "      <td>100.0</td>\n",
       "      <td>1.35</td>\n",
       "    </tr>\n",
       "  </tbody>\n",
       "</table>\n",
       "</div>"
      ],
      "text/plain": [
       "                    B                  A  confidence  lift\n",
       "0           {burguer}          (potato,)        80.0  1.20\n",
       "1             {onion}          (potato,)        80.0  1.20\n",
       "2    {onion, burguer}          (potato,)        60.0  1.35\n",
       "3              {milk}          (potato,)        60.0  0.90\n",
       "4             {onion}  (potato, burguer)        75.0  1.35\n",
       "5           {burguer}    (potato, onion)        75.0  1.35\n",
       "6            {potato}         (burguer,)       100.0  1.20\n",
       "7     {onion, potato}         (burguer,)        75.0  1.35\n",
       "8             {onion}         (burguer,)        75.0  1.12\n",
       "9            {potato}            (milk,)        75.0  0.90\n",
       "10           {potato}           (onion,)       100.0  1.20\n",
       "11  {burguer, potato}           (onion,)        75.0  1.35\n",
       "12          {burguer}           (onion,)        75.0  1.12\n",
       "13           {potato}   (burguer, onion)       100.0  1.35"
      ]
     },
     "execution_count": 13,
     "metadata": {},
     "output_type": "execute_result"
    },
    {
     "data": {
      "application/javascript": [
       "\n",
       "            setTimeout(function() {\n",
       "                var nbb_cell_id = 13;\n",
       "                var nbb_unformatted_code = \"prob = []\\nfor item, supp in tqdm(df_itemset_frequency[[\\\"itemset\\\", \\\"supp\\\"]].values):\\n    s = round(supp * 100, 2)\\n    for conjunto, supp_c in df_itemset_frequency[[\\\"itemset\\\", \\\"supp\\\"]].values:\\n\\n        conf = round((supp_c / supp) * 100, 2)\\n        lift = round(\\n            supp_c / np.prod([df_item_frequent.loc[i][\\\"supp\\\"] for i in conjunto]), 2\\n        )\\n        conj = set(conjunto) - set(item)\\n        if set(item).intersection(set(conjunto)) == set(item):\\n            if len(conj) > 0 and conf > 0:\\n                prob.append([conj, item, conf, lift])\\ndf = pd.DataFrame(prob, columns=[\\\"B\\\", \\\"A\\\", \\\"confidence\\\", \\\"lift\\\"])\\ndf\";\n",
       "                var nbb_formatted_code = \"prob = []\\nfor item, supp in tqdm(df_itemset_frequency[[\\\"itemset\\\", \\\"supp\\\"]].values):\\n    s = round(supp * 100, 2)\\n    for conjunto, supp_c in df_itemset_frequency[[\\\"itemset\\\", \\\"supp\\\"]].values:\\n\\n        conf = round((supp_c / supp) * 100, 2)\\n        lift = round(\\n            supp_c / np.prod([df_item_frequent.loc[i][\\\"supp\\\"] for i in conjunto]), 2\\n        )\\n        conj = set(conjunto) - set(item)\\n        if set(item).intersection(set(conjunto)) == set(item):\\n            if len(conj) > 0 and conf > 0:\\n                prob.append([conj, item, conf, lift])\\ndf = pd.DataFrame(prob, columns=[\\\"B\\\", \\\"A\\\", \\\"confidence\\\", \\\"lift\\\"])\\ndf\";\n",
       "                var nbb_cells = Jupyter.notebook.get_cells();\n",
       "                for (var i = 0; i < nbb_cells.length; ++i) {\n",
       "                    if (nbb_cells[i].input_prompt_number == nbb_cell_id) {\n",
       "                        if (nbb_cells[i].get_text() == nbb_unformatted_code) {\n",
       "                             nbb_cells[i].set_text(nbb_formatted_code);\n",
       "                        }\n",
       "                        break;\n",
       "                    }\n",
       "                }\n",
       "            }, 500);\n",
       "            "
      ],
      "text/plain": [
       "<IPython.core.display.Javascript object>"
      ]
     },
     "metadata": {},
     "output_type": "display_data"
    }
   ],
   "source": [
    "prob = []\n",
    "for item, supp in tqdm(df_itemset_frequency[[\"itemset\", \"supp\"]].values):\n",
    "    s = round(supp * 100, 2)\n",
    "    for conjunto, supp_c in df_itemset_frequency[[\"itemset\", \"supp\"]].values:\n",
    "\n",
    "        conf = round((supp_c / supp) * 100, 2)\n",
    "        lift = round(\n",
    "            supp_c / np.prod([df_item_frequent.loc[i][\"supp\"] for i in conjunto]), 2\n",
    "        )\n",
    "        conj = set(conjunto) - set(item)\n",
    "        if set(item).intersection(set(conjunto)) == set(item):\n",
    "            if len(conj) > 0 and conf > 0:\n",
    "                prob.append([conj, item, conf, lift])\n",
    "df = pd.DataFrame(prob, columns=[\"B\", \"A\", \"confidence\", \"lift\"])\n",
    "df"
   ]
  },
  {
   "cell_type": "code",
   "execution_count": null,
   "id": "643bb354",
   "metadata": {},
   "outputs": [],
   "source": []
  }
 ],
 "metadata": {
  "kernelspec": {
   "display_name": "conda_tensorflow2_p36",
   "language": "python",
   "name": "conda_tensorflow2_p36"
  },
  "language_info": {
   "codemirror_mode": {
    "name": "ipython",
    "version": 3
   },
   "file_extension": ".py",
   "mimetype": "text/x-python",
   "name": "python",
   "nbconvert_exporter": "python",
   "pygments_lexer": "ipython3",
   "version": "3.6.13"
  }
 },
 "nbformat": 4,
 "nbformat_minor": 5
}
